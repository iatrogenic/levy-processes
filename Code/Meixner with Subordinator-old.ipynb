{
 "cells": [
  {
   "cell_type": "code",
   "execution_count": 2,
   "id": "8f717aa9",
   "metadata": {},
   "outputs": [],
   "source": [
    "# Importing the needed libraries:\n",
    "import numpy as np\n",
    "from matplotlib import pyplot as plt\n",
    "import scipy.integrate as integrate\n",
    "import math\n",
    "import statistics\n",
    "\n",
    "# For debug purposes only. To be removed.\n",
    "import time"
   ]
  },
  {
   "cell_type": "code",
   "execution_count": 48,
   "id": "483cb595",
   "metadata": {},
   "outputs": [],
   "source": [
    "# Meixner process parameters. With subordinator.\n",
    "a = 0.1231\n",
    "b = -0.5875\n",
    "d = 3.3588\n",
    "\n",
    "kappa = 0.5705\n",
    "eta = 1.5863\n",
    "lamb = 1.9592\n",
    "y0 = 1\n",
    "\n",
    "r = 1.9/100 \n",
    "q = 1.2/100\n",
    "\n",
    "S0 = 1124.47"
   ]
  },
  {
   "cell_type": "code",
   "execution_count": 49,
   "id": "67c9db64",
   "metadata": {},
   "outputs": [],
   "source": [
    "# time_points is the list of points in which we simulate the process at\n",
    "def BM_path(time_points):\n",
    "    trajectory = [0]\n",
    "    for t in range(1, len(time_points)):\n",
    "        realization = trajectory[-1]+np.sqrt(time_points[t]-time_points[t-1])*np.random.normal()\n",
    "        trajectory.append(realization)\n",
    "    return dict(zip(time_points,trajectory))"
   ]
  },
  {
   "cell_type": "code",
   "execution_count": 50,
   "id": "9221b722",
   "metadata": {},
   "outputs": [],
   "source": [
    "def poisson_path(intensity, time_points):\n",
    "    i = intensity*(time_points[1]-time_points[0])\n",
    "    trajectory = [0]\n",
    "    for t in time_points:\n",
    "        trajectory.append(trajectory[-1]+np.random.poisson(i))\n",
    "    return dict(zip(time_points, trajectory))"
   ]
  },
  {
   "cell_type": "code",
   "execution_count": 51,
   "id": "5b7a94c0",
   "metadata": {},
   "outputs": [],
   "source": [
    "# this is defined so that we do not repeatedly compute the integrals inside the meixner trajectory function\n",
    "def meix_optimization(k, alpha):\n",
    "    # density function of the meixner measure\n",
    "    def meixner_meas(x):\n",
    "        return d*(np.exp(b*x/a)/(x*np.sinh(np.pi*x/a)))\n",
    "    \n",
    "    # partitioning via inverse linear boundaries method\n",
    "    def ilb_partition(k, alpha):\n",
    "        lhs = [-alpha/i for i in range(1,k+2)]\n",
    "        rhs = [-x for x in reversed(lhs)]\n",
    "        return lhs, rhs\n",
    "        \n",
    "    # we could experiment with these values\n",
    "    left_part, right_part = ilb_partition(k,alpha)\n",
    "    partition = left_part + right_part\n",
    "    \n",
    "    # intensities for our Poisson processes\n",
    "    left_lambdas = [integrate.quad(meixner_meas, left_part[i], left_part[i+1])[0] for i in range(len(left_part)-1)]\n",
    "    right_lambdas = [integrate.quad(meixner_meas, right_part[i], right_part[i+1])[0] for i in range(len(right_part)-1)]\n",
    "    lambdas = left_lambdas + right_lambdas\n",
    "    \n",
    "    # will be used later on to compute the c's\n",
    "    x_sqrd = lambda x : x**2*meixner_meas(x) if x!=0 else 0\n",
    "\n",
    "    # epsilon must be > 0\n",
    "    def sigma_sqrd(epsilon):\n",
    "        return integrate.quad(x_sqrd, -epsilon, epsilon)[0]\n",
    "\n",
    "    # variance of the poisson processes\n",
    "    c_left = [-np.sqrt(integrate.quad(x_sqrd, left_part[i], left_part[i+1])[0]/left_lambdas[i]) for i in range(len(left_part)-1)]\n",
    "    c_right = [np.sqrt(integrate.quad(x_sqrd, right_part[i], right_part[i+1])[0]/right_lambdas[i]) for i in range(len(right_part)-1)]\n",
    "    c = c_left + c_right\n",
    "    \n",
    "    # drift\n",
    "    gamma_ = a*d*np.tan(b/2)-2*d*(integrate.quad(lambda x: np.sinh(b*x/a)/np.sinh(np.pi*x/a), 1, 20)[0])\n",
    "    \n",
    "    # used to incorporate the small jumps\n",
    "    sigma_ = np.sqrt(sigma_sqrd(right_part[0]))\n",
    "    \n",
    "    return partition, lambdas, c, gamma_, sigma_\n",
    "\n",
    "indicator = lambda cond : 1 if cond else 0"
   ]
  },
  {
   "cell_type": "code",
   "execution_count": 52,
   "id": "b78bbc06",
   "metadata": {},
   "outputs": [],
   "source": [
    "partition, lambdas, c, gamma_, sigma_ = meix_optimization(100, 1)"
   ]
  },
  {
   "cell_type": "code",
   "execution_count": 53,
   "id": "d52b206c",
   "metadata": {},
   "outputs": [
    {
     "data": {
      "text/plain": [
       "[<matplotlib.lines.Line2D at 0x7faea15e7700>]"
      ]
     },
     "execution_count": 53,
     "metadata": {},
     "output_type": "execute_result"
    },
    {
     "data": {
      "image/png": "[encoded data removed]",
      "text/plain": [
       "<Figure size 432x288 with 1 Axes>"
      ]
     },
     "metadata": {
      "needs_background": "light"
     },
     "output_type": "display_data"
    }
   ],
   "source": [
    "plt.plot(c,lambdas,\".\")"
   ]
  },
  {
   "cell_type": "code",
   "execution_count": 54,
   "id": "39b27dbd",
   "metadata": {},
   "outputs": [],
   "source": [
    "def meixner_trajectory(time_points):\n",
    "    # the actual trajectory of the meixner process starts here\n",
    "    bm = BM_path(time_points)\n",
    "    N = [poisson_path(l, time_points) for l in lambdas]\n",
    "    \n",
    "    trajectory = []\n",
    "    for t in time_points:\n",
    "        s = [c[j]*( N[j][t] - lambdas[j]*t*indicator(np.abs(c[j]) < 1) ) for j in range(len(c))]\n",
    "        #s = [c[j]*( N[j][t] - lambdas[j]*t) for j in range(200)]\n",
    "        realization = gamma_*t + sigma_*bm[t] + sum(s)\n",
    "        #realization = sigma_*bm[t] + sum(s)\n",
    "        trajectory.append(realization)\n",
    "    return dict(zip(time_points,trajectory))"
   ]
  },
  {
   "cell_type": "code",
   "execution_count": 55,
   "id": "e12b9093",
   "metadata": {},
   "outputs": [],
   "source": [
    "def cir(T, time_points):\n",
    "    increment = T/time_points\n",
    "    y = np.zeros(time_points)\n",
    "    y[0] = y0\n",
    "    for i in range(time_points-1):\n",
    "        y[i+1] = max(y[i] + kappa * (eta - y[i]) * increment + lamb * math.sqrt(y[i])*math.sqrt(increment) * np.random.normal(0,1),0)\n",
    "    return y"
   ]
  },
  {
   "cell_type": "code",
   "execution_count": 56,
   "id": "f6388299",
   "metadata": {},
   "outputs": [],
   "source": [
    "def int_cir(T, time_points):\n",
    "    Y = np.zeros(time_points+1)\n",
    "    Y[0] = y0\n",
    "    fixed_cir = cir(T, time_points)\n",
    "    for i in range(len(cir(T, time_points))):\n",
    "        Y[i+1] = Y[i] + fixed_cir[i]\n",
    "    return dict(zip([T/time_points * i for i in range(time_points+1)], Y/time_points))"
   ]
  },
  {
   "cell_type": "code",
   "execution_count": 57,
   "id": "d29a05c2",
   "metadata": {},
   "outputs": [],
   "source": [
    "def subordinated_meixner(T, time_points):\n",
    "    path = int_cir(T, time_points)\n",
    "    det_time = list(path.keys())\n",
    "    t_points = list(path.values())\n",
    "    sub_meix = list(meixner_trajectory(t_points).values())\n",
    "    return dict(zip(det_time, sub_meix))"
   ]
  },
  {
   "cell_type": "code",
   "execution_count": 58,
   "id": "f39b0e5a",
   "metadata": {},
   "outputs": [
    {
     "data": {
      "text/plain": [
       "[<matplotlib.lines.Line2D at 0x7faea16bf910>]"
      ]
     },
     "execution_count": 58,
     "metadata": {},
     "output_type": "execute_result"
    },
    {
     "data": {
      "image/png": "[encoded data removed]",
      "text/plain": [
       "<Figure size 432x288 with 1 Axes>"
      ]
     },
     "metadata": {
      "needs_background": "light"
     },
     "output_type": "display_data"
    }
   ],
   "source": [
    "s = subordinated_meixner(1, 360)\n",
    "plt.plot(list(s.keys()), list(s.values()))"
   ]
  },
  {
   "cell_type": "code",
   "execution_count": 139,
   "id": "8eb65a62",
   "metadata": {},
   "outputs": [],
   "source": [
    "def sub_e(t):\n",
    "    coth = lambda x : np.cosh(x)/np.sinh(x)\n",
    "    \n",
    "    def phi_cir(u):\n",
    "        gamma = np.sqrt(complex(kappa**2, -2*lamb**2*u))\n",
    "        return np.exp(kappa**2*eta*t/(lamb**2))*np.exp(complex(0,2*y0*u)/(kappa + gamma*coth(gamma*t/2)))/((np.cosh(gamma*t/2) + kappa/gamma*np.sinh(gamma*t/2))**(2*kappa*eta/lamb**2))\n",
    "    \n",
    "    def psi_X(u):\n",
    "        return np.log((np.cos(b/2)/np.cosh(complex(a*u,-b)/2))**(2*d))\n",
    "    \n",
    "    def phi(u):\n",
    "        return np.exp(complex(0, u*((r-q)*t)))*(phi_cir(complex(0,-psi_X(u))))/(phi_cir(complex(0,-psi_X(complex(0,-1)))))**complex(0,u)\n",
    "\n",
    "    exp_value = phi(complex(0,-1))\n",
    "    return np.real(exp_value)"
   ]
  },
  {
   "cell_type": "code",
   "execution_count": 136,
   "id": "982e06f8",
   "metadata": {},
   "outputs": [
    {
     "data": {
      "text/plain": [
       "1.0064839440383928"
      ]
     },
     "execution_count": 136,
     "metadata": {},
     "output_type": "execute_result"
    }
   ],
   "source": [
    "sub_e(337/365)"
   ]
  },
  {
   "cell_type": "code",
   "execution_count": 107,
   "id": "d441e341",
   "metadata": {},
   "outputs": [],
   "source": [
    "def meixner_sub_martingale(T, time_points):\n",
    "    path = subordinated_meixner(T, time_points)\n",
    "    t = np.array(list(path.keys()))\n",
    "    x_yt = np.array(list(path.values()))\n",
    "    correction = []\n",
    "    for i in range(len(x_yt)):\n",
    "        correction.append(np.exp((r-q)*t[i])/sub_e(t[i]))\n",
    "    risk_neutral = S0*np.array(correction) * np.exp(x_yt)\n",
    "    return dict(zip(t, list(risk_neutral)))"
   ]
  },
  {
   "cell_type": "code",
   "execution_count": 108,
   "id": "21fecab1",
   "metadata": {},
   "outputs": [
    {
     "name": "stdout",
     "output_type": "stream",
     "text": [
      "0.9999752932854494\n"
     ]
    },
    {
     "data": {
      "text/plain": [
       "[<matplotlib.lines.Line2D at 0x7fae92fbc940>]"
      ]
     },
     "execution_count": 108,
     "metadata": {},
     "output_type": "execute_result"
    },
    {
     "data": {
      "image/png": "[encoded data removed]",
      "text/plain": [
       "<Figure size 432x288 with 1 Axes>"
      ]
     },
     "metadata": {
      "needs_background": "light"
     },
     "output_type": "display_data"
    }
   ],
   "source": [
    "sub_path = meixner_sub_martingale(338/365, 500) \n",
    "print(list(sub_path.values())[0])\n",
    "plt.plot(list(sub_path.keys()), list(sub_path.values()))"
   ]
  },
  {
   "cell_type": "markdown",
   "id": "23e23a58",
   "metadata": {},
   "source": [
    "# Monte Carlo simulations with Subordinator"
   ]
  },
  {
   "cell_type": "code",
   "execution_count": 109,
   "id": "f509ce91",
   "metadata": {},
   "outputs": [],
   "source": [
    "def payoff_eur_call(ST, K):\n",
    "    return max(ST-K,0)"
   ]
  },
  {
   "cell_type": "code",
   "execution_count": 110,
   "id": "d022f15a",
   "metadata": {},
   "outputs": [],
   "source": [
    "def mc_ec_sub_meixner(T, K, sims):\n",
    "    t=[]\n",
    "    for i in range(sims):\n",
    "        final_value = list(meixner_sub_martingale(T,200).values())[-1]\n",
    "        t.append(payoff_eur_call(final_value, K))\n",
    "    return np.exp(-r*T)*np.mean(t)"
   ]
  },
  {
   "cell_type": "code",
   "execution_count": 111,
   "id": "ff10b432",
   "metadata": {},
   "outputs": [
    {
     "name": "stdout",
     "output_type": "stream",
     "text": [
      "CPU times: user 2min 57s, sys: 593 ms, total: 2min 58s\n",
      "Wall time: 3min\n"
     ]
    }
   ],
   "source": [
    "%%time\n",
    "resl = mc_ec_sub_meixner(338/365, 1150, 1000)"
   ]
  },
  {
   "cell_type": "code",
   "execution_count": 100,
   "id": "86087a25",
   "metadata": {},
   "outputs": [
    {
     "data": {
      "text/plain": [
       "16.395856180949146"
      ]
     },
     "execution_count": 100,
     "metadata": {},
     "output_type": "execute_result"
    }
   ],
   "source": [
    "resl"
   ]
  },
  {
   "cell_type": "code",
   "execution_count": 140,
   "id": "add082ed",
   "metadata": {},
   "outputs": [
    {
     "name": "stderr",
     "output_type": "stream",
     "text": [
      "<ipython-input-139-109dc18e7990>:2: RuntimeWarning: divide by zero encountered in cdouble_scalars\n",
      "  coth = lambda x : np.cosh(x)/np.sinh(x)\n",
      "<ipython-input-139-109dc18e7990>:2: RuntimeWarning: invalid value encountered in cdouble_scalars\n",
      "  coth = lambda x : np.cosh(x)/np.sinh(x)\n",
      "<ipython-input-139-109dc18e7990>:6: RuntimeWarning: invalid value encountered in cdouble_scalars\n",
      "  return np.exp(kappa**2*eta*t/(lamb**2))*np.exp(complex(0,2*y0*u)/(kappa + gamma*coth(gamma*t/2)))/((np.cosh(gamma*t/2) + kappa/gamma*np.sinh(gamma*t/2))**(2*kappa*eta/lamb**2))\n"
     ]
    },
    {
     "data": {
      "text/plain": [
       "array([          nan, 1131.73671683, 1132.22260652, 1133.22609987,\n",
       "       1135.41765053, 1134.24881198, 1134.0697099 , 1134.68671894,\n",
       "       1140.72968057, 1148.28596292, 1147.51668701, 1146.81421805,\n",
       "       1148.4859389 , 1149.51940979, 1147.26509714, 1140.43169562,\n",
       "       1143.53035411,  950.67238203,  947.24483522,  959.06645693,\n",
       "        967.38759655,  967.88364676,  969.89846196,  970.47110549,\n",
       "        969.7598901 ,  970.82327139,  975.50242725,  982.04464786,\n",
       "        974.0333036 ,  978.1446403 ,  981.30837682,  982.68015656,\n",
       "        980.33183197,  977.70152828,  976.11179734,  976.34718249,\n",
       "        970.29320832,  972.96939686,  969.27890946, 1029.62947945,\n",
       "       1025.91849984, 1027.77774319, 1016.42765915, 1014.99845289,\n",
       "       1012.35673347, 1014.24317538, 1015.55271519, 1011.8367054 ,\n",
       "       1009.39686002, 1006.74167562, 1005.50009282, 1007.4205544 ,\n",
       "       1011.78799803, 1015.65600517, 1015.5388532 , 1015.27760208,\n",
       "       1017.77730863, 1019.30106381, 1021.97079288, 1022.62696834,\n",
       "       1023.86265958, 1020.97873881, 1022.26117434, 1023.72742373,\n",
       "       1028.88900087, 1028.389313  , 1023.57646242, 1019.04709887,\n",
       "       1025.37598895, 1015.07403946, 1020.49825948, 1017.02527612,\n",
       "       1013.1534525 , 1016.60872594, 1021.73870031, 1018.58723284,\n",
       "       1027.17693637, 1024.26174124, 1019.64996914, 1023.77536247,\n",
       "       1023.20574742, 1019.32146984, 1031.56998745, 1025.86718663,\n",
       "       1019.28272567, 1018.36361426, 1018.02878054, 1026.37493204,\n",
       "       1023.89787182, 1044.68582445, 1046.66696528, 1050.68738201,\n",
       "       1039.31057025, 1039.79194396, 1034.68831555, 1029.33087945,\n",
       "       1026.18048673, 1021.80372929, 1021.35881672, 1030.08860017,\n",
       "       1035.08348276, 1037.40663712, 1031.65708475, 1032.25026548,\n",
       "       1031.05992023, 1041.20662162, 1042.46203123, 1039.83472645,\n",
       "       1049.34102915, 1044.07715868, 1038.75959667, 1036.87123704,\n",
       "       1090.14917247, 1084.46705969, 1081.49120394, 1089.02548474,\n",
       "       1093.04269209, 1091.23306618, 1093.28746544, 1091.29472226,\n",
       "       1081.55308767, 1079.82209798, 1074.86214439, 1069.38102455,\n",
       "       1070.50701806, 1070.86186812, 1064.9688542 , 1075.77872882,\n",
       "       1081.33245824, 1079.33967068, 1083.86932776, 1082.73975111,\n",
       "       1085.79673948, 1084.08760935, 1083.74682313, 1088.09745161,\n",
       "       1089.79146971, 1082.00939861, 1082.80736406, 1079.55544283,\n",
       "       1079.04270578, 1079.46641661, 1082.30090456, 1080.80146566,\n",
       "       1081.72471239, 1077.55932444, 1078.46937413, 1072.55570874,\n",
       "       1076.11353804, 1077.04645146, 1078.53182926, 1056.62463394,\n",
       "       1064.79341265, 1066.31301881, 1066.87036145, 1065.88654911,\n",
       "       1075.05916715, 1076.65569395, 1076.20464702, 1076.07380605,\n",
       "       1070.79550869, 1051.8817701 , 1053.56836539, 1051.31649392,\n",
       "       1055.85456163, 1054.8666635 , 1050.95820733, 1049.0389314 ,\n",
       "       1051.05598314, 1050.11137972, 1050.63989213, 1050.72021103,\n",
       "       1053.37654288, 1054.4251412 , 1053.958144  , 1057.08603921,\n",
       "       1052.15663577, 1050.8403891 , 1050.91428836, 1052.08563386,\n",
       "       1056.43762017, 1053.64851206, 1054.19944747, 1048.52261936,\n",
       "       1045.29208621, 1044.70452908, 1036.6697273 ,  969.45277758,\n",
       "        969.98271948,  971.98071148,  973.09419388,  972.84884309,\n",
       "        971.64619629,  956.91538497,  956.70052997,  953.8629935 ,\n",
       "        951.15715515,  946.3228957 ,  946.10039687,  945.19215203,\n",
       "        950.77889155,  947.28867008,  945.42660626,  943.43365783,\n",
       "        943.1491936 ,  944.76533876,  947.52662618,  954.93178357,\n",
       "        951.87304011,  951.93101461,  955.43001999,  955.99943695,\n",
       "        954.82608785,  957.84854655,  960.7310822 ,  962.85036758,\n",
       "        957.37129204,  958.33420338,  954.12646851,  955.73149059,\n",
       "        952.37289449,  960.40425512,  956.26356759,  956.68529179,\n",
       "        953.80249867,  960.18179682,  956.37561703,  955.09225016,\n",
       "        953.96952059,  957.23963361,  959.92991421,  962.39994858,\n",
       "        959.59848628,  964.91329838,  966.02434451,  966.37560018,\n",
       "        973.04766056,  969.31700306,  965.38699443,  968.73259533,\n",
       "        966.54567119,  965.4385373 ,  974.08347634,  975.86247751,\n",
       "        976.12259807,  976.53452884,  977.02053456,  976.88184377,\n",
       "        980.19188832,  980.79562762,  962.64269119,  960.975972  ,\n",
       "        968.15704712,  965.37934981,  965.57248971,  966.05949699,\n",
       "        962.6555461 ,  962.92348617,  963.17100198,  964.48902572,\n",
       "        965.67925882,  967.09402066,  968.21680588,  947.55860654,\n",
       "        960.38684065,  960.081673  ,  960.24220057,  960.93442464,\n",
       "        961.03980343,  961.27427118,  961.23438756,  962.05785385,\n",
       "        962.28644539,  962.79090233,  962.32557749,  962.28211916,\n",
       "        961.89439037,  961.90070797,  961.83503309,  962.33568524,\n",
       "        962.51865966,  962.694382  ,  961.71923719,  989.47351243,\n",
       "        989.35835495,  989.82244649,  989.932153  ,  990.21544962,\n",
       "        989.72082642,  989.71518355,  989.43567858, 1012.63963432,\n",
       "       1012.36208222, 1012.1823574 , 1011.83525815, 1011.83507162,\n",
       "       1012.67931448, 1010.84476136, 1010.58948713])"
      ]
     },
     "execution_count": 140,
     "metadata": {},
     "output_type": "execute_result"
    }
   ],
   "source": [
    "path = subordinated_meixner(338/365, 300)\n",
    "t = np.array(list(path.keys()))\n",
    "x_yt = np.array(list(path.values()))\n",
    "correction = []\n",
    "for cir_times in t:\n",
    "    correction.append(np.exp((r-q)*cir_times)/sub_e(cir_times))\n",
    "S0 * np.array(correction) * np.exp(x_yt)"
   ]
  },
  {
   "cell_type": "code",
   "execution_count": 141,
   "id": "aa451243",
   "metadata": {},
   "outputs": [
    {
     "data": {
      "text/plain": [
       "[nan,\n",
       " 1.0,\n",
       " 1.0000000000000002,\n",
       " 1.0000000000000002,\n",
       " 1.0000000000000002,\n",
       " 1.0,\n",
       " 1.0000000000000002,\n",
       " 1.0,\n",
       " 1.0,\n",
       " 1.0,\n",
       " 1.0,\n",
       " 1.0,\n",
       " 1.0,\n",
       " 1.0,\n",
       " 1.0,\n",
       " 1.0,\n",
       " 1.0,\n",
       " 1.0,\n",
       " 1.0,\n",
       " 1.0,\n",
       " 0.9999999999999998,\n",
       " 1.0,\n",
       " 1.0,\n",
       " 1.0,\n",
       " 1.0,\n",
       " 1.0,\n",
       " 1.0,\n",
       " 1.0000000000000002,\n",
       " 1.0,\n",
       " 1.0,\n",
       " 1.0,\n",
       " 1.0,\n",
       " 1.0,\n",
       " 1.0,\n",
       " 1.0,\n",
       " 1.0,\n",
       " 1.0,\n",
       " 1.0,\n",
       " 1.0,\n",
       " 1.0,\n",
       " 1.0,\n",
       " 1.0,\n",
       " 1.0,\n",
       " 1.0,\n",
       " 1.0,\n",
       " 1.0,\n",
       " 1.0,\n",
       " 1.0,\n",
       " 1.0,\n",
       " 1.0,\n",
       " 1.0,\n",
       " 1.0,\n",
       " 1.0,\n",
       " 1.0000000000000002,\n",
       " 1.0,\n",
       " 1.0,\n",
       " 1.0,\n",
       " 1.0,\n",
       " 1.0,\n",
       " 1.0,\n",
       " 0.9999999999999998,\n",
       " 1.0,\n",
       " 1.0,\n",
       " 1.0,\n",
       " 1.0,\n",
       " 1.0,\n",
       " 1.0,\n",
       " 1.0,\n",
       " 1.0,\n",
       " 1.0,\n",
       " 1.0,\n",
       " 1.0,\n",
       " 1.0,\n",
       " 1.0,\n",
       " 1.0,\n",
       " 1.0,\n",
       " 1.0,\n",
       " 1.0,\n",
       " 1.0,\n",
       " 1.0,\n",
       " 1.0,\n",
       " 1.0,\n",
       " 1.0,\n",
       " 1.0,\n",
       " 1.0,\n",
       " 1.0,\n",
       " 1.0,\n",
       " 1.0000000000000002,\n",
       " 1.0,\n",
       " 1.0,\n",
       " 1.0,\n",
       " 1.0,\n",
       " 1.0,\n",
       " 1.0000000000000002,\n",
       " 1.0000000000000002,\n",
       " 1.0,\n",
       " 1.0,\n",
       " 1.0000000000000002,\n",
       " 1.0,\n",
       " 1.0,\n",
       " 1.0,\n",
       " 1.0,\n",
       " 1.0,\n",
       " 1.0,\n",
       " 0.9999999999999998,\n",
       " 1.0,\n",
       " 1.0,\n",
       " 1.0,\n",
       " 1.0,\n",
       " 1.0,\n",
       " 1.0,\n",
       " 1.0,\n",
       " 1.0,\n",
       " 1.0,\n",
       " 1.0,\n",
       " 1.0,\n",
       " 1.0,\n",
       " 1.0,\n",
       " 1.0,\n",
       " 1.0,\n",
       " 0.9999999999999998,\n",
       " 1.0,\n",
       " 1.0,\n",
       " 1.0,\n",
       " 1.0,\n",
       " 1.0,\n",
       " 1.0,\n",
       " 1.0,\n",
       " 1.0,\n",
       " 1.0,\n",
       " 1.0,\n",
       " 1.0,\n",
       " 0.9999999999999998,\n",
       " 1.0,\n",
       " 1.0,\n",
       " 1.0,\n",
       " 1.0,\n",
       " 1.0,\n",
       " 1.0,\n",
       " 1.0,\n",
       " 1.0,\n",
       " 1.0,\n",
       " 1.0,\n",
       " 1.0,\n",
       " 1.0,\n",
       " 1.0,\n",
       " 1.0,\n",
       " 1.0,\n",
       " 1.0,\n",
       " 1.0,\n",
       " 1.0,\n",
       " 1.0,\n",
       " 1.0,\n",
       " 1.0,\n",
       " 1.0,\n",
       " 1.0,\n",
       " 1.0,\n",
       " 1.0,\n",
       " 0.9999999999999998,\n",
       " 1.0,\n",
       " 1.0,\n",
       " 1.0,\n",
       " 1.0,\n",
       " 1.0,\n",
       " 1.0,\n",
       " 1.0,\n",
       " 1.0,\n",
       " 1.0,\n",
       " 1.0,\n",
       " 1.0000000000000002,\n",
       " 1.0,\n",
       " 1.0,\n",
       " 1.0,\n",
       " 1.0,\n",
       " 1.0000000000000002,\n",
       " 1.0,\n",
       " 1.0,\n",
       " 1.0,\n",
       " 1.0,\n",
       " 1.0,\n",
       " 1.0,\n",
       " 1.0,\n",
       " 1.0,\n",
       " 1.0,\n",
       " 1.0000000000000002,\n",
       " 1.0,\n",
       " 1.0,\n",
       " 1.0,\n",
       " 1.0,\n",
       " 1.0000000000000002,\n",
       " 1.0,\n",
       " 1.0,\n",
       " 1.0000000000000002,\n",
       " 1.0,\n",
       " 0.9999999999999998,\n",
       " 1.0000000000000002,\n",
       " 1.0,\n",
       " 1.0,\n",
       " 1.0,\n",
       " 1.0,\n",
       " 1.0000000000000002,\n",
       " 1.0,\n",
       " 1.0,\n",
       " 1.0,\n",
       " 1.0000000000000002,\n",
       " 1.0,\n",
       " 1.0,\n",
       " 1.0,\n",
       " 1.0,\n",
       " 0.9999999999999998,\n",
       " 1.0,\n",
       " 1.0,\n",
       " 1.0,\n",
       " 1.0,\n",
       " 1.0,\n",
       " 1.0,\n",
       " 1.0,\n",
       " 1.0,\n",
       " 1.0,\n",
       " 1.0,\n",
       " 1.0,\n",
       " 1.0,\n",
       " 1.0000000000000002,\n",
       " 1.0,\n",
       " 1.0,\n",
       " 1.0,\n",
       " 1.0,\n",
       " 1.0,\n",
       " 1.0,\n",
       " 1.0,\n",
       " 1.0,\n",
       " 1.0,\n",
       " 1.0,\n",
       " 1.0000000000000002,\n",
       " 1.0,\n",
       " 1.0,\n",
       " 1.0,\n",
       " 1.0,\n",
       " 1.0,\n",
       " 1.0,\n",
       " 1.0,\n",
       " 1.0,\n",
       " 1.0,\n",
       " 1.0,\n",
       " 1.0,\n",
       " 1.0000000000000002,\n",
       " 1.0,\n",
       " 1.0,\n",
       " 1.0,\n",
       " 1.0,\n",
       " 1.0,\n",
       " 1.0,\n",
       " 1.0,\n",
       " 1.0,\n",
       " 1.0,\n",
       " 0.9999999999999998,\n",
       " 1.0,\n",
       " 1.0,\n",
       " 1.0,\n",
       " 1.0,\n",
       " 1.0,\n",
       " 1.0,\n",
       " 0.9999999999999998,\n",
       " 1.0,\n",
       " 1.0,\n",
       " 1.0,\n",
       " 1.0,\n",
       " 1.0,\n",
       " 1.0,\n",
       " 1.0,\n",
       " 1.0,\n",
       " 1.0,\n",
       " 1.0,\n",
       " 1.0,\n",
       " 1.0,\n",
       " 1.0,\n",
       " 1.0,\n",
       " 1.0,\n",
       " 1.0,\n",
       " 1.0,\n",
       " 1.0,\n",
       " 1.0,\n",
       " 1.0,\n",
       " 1.0,\n",
       " 1.0,\n",
       " 1.0,\n",
       " 1.0,\n",
       " 1.0,\n",
       " 1.0,\n",
       " 1.0,\n",
       " 1.0,\n",
       " 1.0,\n",
       " 1.0,\n",
       " 1.0,\n",
       " 1.0,\n",
       " 1.0,\n",
       " 1.0,\n",
       " 1.0,\n",
       " 1.0]"
      ]
     },
     "execution_count": 141,
     "metadata": {},
     "output_type": "execute_result"
    }
   ],
   "source": [
    "correction"
   ]
  },
  {
   "cell_type": "code",
   "execution_count": null,
   "id": "b2be0a8e",
   "metadata": {},
   "outputs": [],
   "source": []
  }
 ],
 "metadata": {
  "kernelspec": {
   "display_name": "Python 3",
   "language": "python",
   "name": "python3"
  },
  "language_info": {
   "codemirror_mode": {
    "name": "ipython",
    "version": 3
   },
   "file_extension": ".py",
   "mimetype": "text/x-python",
   "name": "python",
   "nbconvert_exporter": "python",
   "pygments_lexer": "ipython3",
   "version": "3.8.8"
  },
  "varInspector": {
   "cols": {
    "lenName": 16,
    "lenType": 16,
    "lenVar": 40
   },
   "kernels_config": {
    "python": {
     "delete_cmd_postfix": "",
     "delete_cmd_prefix": "del ",
     "library": "var_list.py",
     "varRefreshCmd": "print(var_dic_list())"
    },
    "r": {
     "delete_cmd_postfix": ") ",
     "delete_cmd_prefix": "rm(",
     "library": "var_list.r",
     "varRefreshCmd": "cat(var_dic_list()) "
    }
   },
   "types_to_exclude": [
    "module",
    "function",
    "builtin_function_or_method",
    "instance",
    "_Feature"
   ],
   "window_display": false
  }
 },
 "nbformat": 4,
 "nbformat_minor": 5
}
