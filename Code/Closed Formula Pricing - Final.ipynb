{
 "cells": [
  {
   "cell_type": "code",
   "execution_count": 106,
   "id": "d4d607e3",
   "metadata": {},
   "outputs": [],
   "source": [
    "# Importing the needed libraries:\n",
    "import numpy as np\n",
    "from matplotlib import pyplot as plt\n",
    "import scipy.integrate as integrate\n",
    "import math\n",
    "import statistics\n",
    "from scipy.stats import norm\n",
    "# For debug purposes only. To be removed.\n",
    "import time"
   ]
  },
  {
   "cell_type": "code",
   "execution_count": 8,
   "id": "cbb47809",
   "metadata": {},
   "outputs": [],
   "source": [
    "# Meixner process parameters. No subordinator.\n",
    "a = 0.1231\n",
    "b = -0.5875\n",
    "d = 3.3588\n",
    "\n",
    "kappa = 0.5705\n",
    "eta = 1.5863\n",
    "lamb = 1.9592\n",
    "y0 = 1\n",
    "\n",
    "r = 1.9/100 \n",
    "q = 1.2/100\n",
    "\n",
    "S0 = 1124.47"
   ]
  },
  {
   "cell_type": "code",
   "execution_count": 9,
   "id": "091e303a",
   "metadata": {},
   "outputs": [],
   "source": [
    "def ch_price(t, K):  \n",
    "    coth = lambda x : np.cosh(x)/np.sinh(x) \n",
    "    \n",
    "    def phi_cir(u):\n",
    "        gamma = np.sqrt(complex(kappa**2, -2*lamb**2*u))\n",
    "        return np.exp(kappa**2*eta*t/(lamb**2))*np.exp(complex(0,2*y0*u)/(kappa + gamma*coth(gamma*t/2)))/((np.cosh(gamma*t/2) + kappa/gamma*np.sinh(gamma*t/2))**(2*kappa*eta/lamb**2))\n",
    "    \n",
    "    def psi_X(u):\n",
    "        return np.log((np.cos(b/2)/np.cosh(complex(a*u,-b)/2))**(2*d))\n",
    "    \n",
    "    def phi(u):\n",
    "        return np.exp(complex(0, u*((r-q)*t+np.log(S0))))*(phi_cir(complex(0,-psi_X(u))))/(phi_cir(complex(0,-psi_X(complex(0,-1)))))**complex(0,u)\n",
    "    \n",
    "    integrand1 = lambda u : np.real(np.exp(complex(0,-u)*np.log(K))*phi(complex(u,-1))/complex(0,u*phi(complex(0, -1))))\n",
    "    integrand2 = lambda u : np.real(np.exp(complex(0,-u)*np.log(K))*phi(u)/complex(0,u))\n",
    "    \n",
    "    pi1 = 1/2 + 1/np.pi*(integrate.quad(integrand1, 0, 1000)[0])\n",
    "    pi2 = 1/2 + 1/np.pi*(integrate.quad(integrand2, 0, 1000)[0])\n",
    "    \n",
    "    #return S0*pi1-K*np.exp(-r*t)*pi2\n",
    "    return S0*np.exp(-q*t)*pi1-K*np.exp(-r*t)*pi2"
   ]
  },
  {
   "cell_type": "code",
   "execution_count": 10,
   "id": "963adb82",
   "metadata": {},
   "outputs": [
    {
     "data": {
      "text/plain": [
       "68.20625728458583"
      ]
     },
     "execution_count": 10,
     "metadata": {},
     "output_type": "execute_result"
    }
   ],
   "source": [
    "ch_price(337/365, 1150)"
   ]
  },
  {
   "cell_type": "code",
   "execution_count": 11,
   "id": "2162bc6a",
   "metadata": {},
   "outputs": [
    {
     "data": {
      "text/plain": [
       "[(146.5, 146.2682038274154),\n",
       " (96.2, 96.27854381660791),\n",
       " (81.7, 81.71991732622723),\n",
       " (68.3, 68.37017845752177),\n",
       " (56.6, 56.32144583474735),\n",
       " (46.1, 45.65767220010889),\n",
       " (36.9, 36.445043138549465),\n",
       " (29.3, 28.714744413693666),\n",
       " (22.5, 22.431730479365115),\n",
       " (17.2, 17.459460290552528),\n",
       " (12.8, 13.583692922767995)]"
      ]
     },
     "execution_count": 11,
     "metadata": {},
     "output_type": "execute_result"
    }
   ],
   "source": [
    "K_list = [1025,1100,1125,1150,1175,1200,1225,1250,1275,1300,1325]\n",
    "prices_list = [146.50,96.20,81.7,68.30,56.6,46.1,36.9,29.3,22.5,17.2,12.8]\n",
    "mc_predictions = []\n",
    "for k in K_list:\n",
    "    mc_predictions.append(ch_price(338/365,k))\n",
    "closef_pricing = list(zip(prices_list, mc_predictions))\n",
    "closef_pricing"
   ]
  },
  {
   "cell_type": "code",
   "execution_count": 12,
   "id": "6c40bbcd",
   "metadata": {},
   "outputs": [
    {
     "data": {
      "text/plain": [
       "0.01180323208549623"
      ]
     },
     "execution_count": 12,
     "metadata": {},
     "output_type": "execute_result"
    }
   ],
   "source": [
    "arpe = 1/len(closef_pricing)*sum([abs(market - model)/market for market, model in closef_pricing])\n",
    "arpe"
   ]
  },
  {
   "cell_type": "markdown",
   "id": "fa91d9ac",
   "metadata": {},
   "source": [
    "### Pricing with Black-Scholes Formula"
   ]
  },
  {
   "cell_type": "code",
   "execution_count": 13,
   "id": "e5028683",
   "metadata": {},
   "outputs": [],
   "source": [
    "def blacks_formula(S0, T, K, r, q, sig):\n",
    "    d1 = (np.log(S0/K)+(r-q+(sig**2)/2)*T)/(sig*np.sqrt(T))\n",
    "    d2 = d1 - sig * np.sqrt(T)\n",
    "    return math.exp(-q*T)*S0*norm.cdf(d1)-K*np.exp(-r*T)*norm.cdf(d2)"
   ]
  },
  {
   "cell_type": "code",
   "execution_count": 14,
   "id": "5ad515a5",
   "metadata": {},
   "outputs": [
    {
     "data": {
      "text/plain": [
       "55.044924877164476"
      ]
     },
     "execution_count": 14,
     "metadata": {},
     "output_type": "execute_result"
    }
   ],
   "source": [
    "blacks_formula(1124.47,338/365,1150,r,q, 0.1479)"
   ]
  },
  {
   "cell_type": "code",
   "execution_count": 15,
   "id": "3ad87553",
   "metadata": {},
   "outputs": [
    {
     "data": {
      "text/plain": [
       "[(146.5, 126.54488928955664),\n",
       " (96.2, 79.0555629606738),\n",
       " (81.7, 66.28698763237117),\n",
       " (68.3, 55.044924877164476),\n",
       " (56.6, 45.27231353292541),\n",
       " (46.1, 36.88317132044091),\n",
       " (36.9, 29.769743081677916),\n",
       " (29.3, 23.809957392336457),\n",
       " (22.5, 18.874516807101827),\n",
       " (17.2, 14.833129707541787),\n",
       " (12.8, 11.559587345897597)]"
      ]
     },
     "execution_count": 15,
     "metadata": {},
     "output_type": "execute_result"
    }
   ],
   "source": [
    "K_list = [1025,1100,1125,1150,1175,1200,1225,1250,1275,1300,1325]\n",
    "prices_list = [146.50,96.20,81.7,68.30,56.6,46.1,36.9,29.3,22.5,17.2,12.8]\n",
    "bs_predictions = []\n",
    "for k in K_list:\n",
    "    bs_predictions.append(blacks_formula(1124.47,338/365,k,r,q, 0.1479))\n",
    "bs_pricing = list(zip(prices_list, bs_predictions))\n",
    "#list(bs_pricing.values())\n",
    "bs_pricing"
   ]
  },
  {
   "cell_type": "code",
   "execution_count": 16,
   "id": "7cb64dbe",
   "metadata": {},
   "outputs": [
    {
     "data": {
      "text/plain": [
       "0.17031591253662542"
      ]
     },
     "execution_count": 16,
     "metadata": {},
     "output_type": "execute_result"
    }
   ],
   "source": [
    "arpe = 1/len(bs_pricing)*sum([abs(market - model)/market for market, model in bs_pricing])\n",
    "arpe"
   ]
  },
  {
   "cell_type": "markdown",
   "id": "d48b553e",
   "metadata": {},
   "source": [
    "### Implied Volatilities"
   ]
  },
  {
   "cell_type": "markdown",
   "id": "bbd4ba01",
   "metadata": {},
   "source": [
    "##### Black Scholes"
   ]
  },
  {
   "cell_type": "code",
   "execution_count": 75,
   "id": "a04e6ed9",
   "metadata": {},
   "outputs": [],
   "source": [
    "def implied_vol(sigma0,T, prices_list):\n",
    "    #prices_list = [96.20,81.7,68.30,56.6,46.1,36.9,29.3,22.5,17.2,12.8]\n",
    "    #K_nlist = [1025,1050, 1075, 1100,1125,1150,1175,1200,1225,1250,1275,1300,1325]\n",
    "    K_nlist = [1025, 1100,1125,1150,1175,1200,1225,1250,1275,1300,1325]\n",
    "    #K_nlist= list(range(1100,00,25))\n",
    "    #K_nlist = [1100,1125,1150,1175,1200,1225,1250,1275,1300,1325]\n",
    "    \n",
    "    \n",
    "    #mc_predictions = []\n",
    "    #for k in K_nlist:\n",
    "    #    mc_predictions.append(ch_price(337/365,k))\n",
    "    #closef_pricing = dict(zip(K_nlist, mc_predictions))\n",
    "    #p_list = list(closef_pricing.values())\n",
    "    \n",
    "    #sigma = np.zeros(len(K_nlist))\n",
    "    #sigma[0]= sigma0\n",
    "    sigmas = []\n",
    "    for K_i, prices_K in zip(K_nlist, prices_list):\n",
    "        sigma = sigma0\n",
    "        for i in range(1000):\n",
    "            sigma = sigma-((blacks_formula(S0, T, K_i, r, q, sigma)-prices_K)/(S0*np.sqrt(T)*norm.cdf((np.log(S0/K_i)+(r-q+(sigma**2)/2)*T)/(sigma*np.sqrt(T)))))\n",
    "            #sigma[i+1]= sigma[i]-((blacks_formula(S0, T, K_nlist[i], r, q, sigma[i])-prices_list[i])/(S0*np.sqrt(T)*norm.cdf((np.log(S0/K_nlist[i])+(r-q+(sigma[i]**2)/2)*T)/(sigma[i]*np.sqrt(T)))))\n",
    "        sigmas.append(sigma)\n",
    "    return dict(zip(K_nlist,sigmas))"
   ]
  },
  {
   "cell_type": "code",
   "execution_count": 51,
   "id": "cb3a4266",
   "metadata": {},
   "outputs": [],
   "source": [
    "imp = implied_vol(0.2,338/365)\n",
    "#imp1 = implied_vol(0.2,S0,338/365,r,q)\n",
    "#imp2 = implied_vol(0.2,S0,0.5,r,q)\n",
    "#imp3 = implied_vol(0.2,S0,1.7,r,q)"
   ]
  },
  {
   "cell_type": "code",
   "execution_count": 52,
   "id": "aff1bb08",
   "metadata": {},
   "outputs": [
    {
     "data": {
      "text/plain": [
       "{1025: 0.20651234738352672,\n",
       " 1100: 0.18941378153394042,\n",
       " 1125: 0.18425397786771344,\n",
       " 1150: 0.17895822609406267,\n",
       " 1175: 0.17479725952095077,\n",
       " 1200: 0.17052799898068,\n",
       " 1225: 0.1663712450396331,\n",
       " 1250: 0.16320141840295854,\n",
       " 1275: 0.159013489602304,\n",
       " 1300: 0.15602792259359044,\n",
       " 1325: 0.1527745097934734}"
      ]
     },
     "execution_count": 52,
     "metadata": {},
     "output_type": "execute_result"
    }
   ],
   "source": [
    "imp"
   ]
  },
  {
   "cell_type": "code",
   "execution_count": 53,
   "id": "109f3488",
   "metadata": {},
   "outputs": [
    {
     "data": {
      "text/plain": [
       "Text(0, 0.5, 'Implied Volatility')"
      ]
     },
     "execution_count": 53,
     "metadata": {},
     "output_type": "execute_result"
    },
    {
     "data": {
      "image/png": "[encoded data removed]",
      "text/plain": [
       "<Figure size 432x288 with 1 Axes>"
      ]
     },
     "metadata": {
      "needs_background": "light"
     },
     "output_type": "display_data"
    }
   ],
   "source": [
    "plt.plot(list(imp.keys()), list(imp.values()))\n",
    "#plt.plot(list(imp1.keys()), list(imp1.values()))\n",
    "#plt.plot(list(imp2.keys()), list(imp2.values()))\n",
    "#plt.plot(list(imp3.keys()), list(imp3.values()))\n",
    "plt.xlabel('Strike')\n",
    "plt.ylabel('Implied Volatility')\n"
   ]
  },
  {
   "cell_type": "markdown",
   "id": "191b8dd9",
   "metadata": {},
   "source": [
    "##### Closed form formula"
   ]
  },
  {
   "cell_type": "code",
   "execution_count": 68,
   "id": "323e84cc",
   "metadata": {},
   "outputs": [],
   "source": [
    "imp_ch = implied_vol(0.2,1)"
   ]
  },
  {
   "cell_type": "code",
   "execution_count": 65,
   "id": "dbecd4e0",
   "metadata": {},
   "outputs": [
    {
     "data": {
      "text/plain": [
       "{1025: 0.1971238329456603,\n",
       " 1100: 0.1815858541705872,\n",
       " 1125: 0.17651885757665434,\n",
       " 1150: 0.17157082983475108,\n",
       " 1175: 0.16680943725081476,\n",
       " 1200: 0.16233463082415048,\n",
       " 1225: 0.15828853366561532,\n",
       " 1250: 0.1548543142232591,\n",
       " 1275: 0.152209154739902,\n",
       " 1300: 0.15040867179655992,\n",
       " 1325: 0.1493547363151245}"
      ]
     },
     "execution_count": 65,
     "metadata": {},
     "output_type": "execute_result"
    }
   ],
   "source": [
    "imp"
   ]
  },
  {
   "cell_type": "code",
   "execution_count": 67,
   "id": "0d7f0a7e",
   "metadata": {},
   "outputs": [
    {
     "data": {
      "text/plain": [
       "Text(0.5, 1.0, 'IV for closed formula prices')"
      ]
     },
     "execution_count": 67,
     "metadata": {},
     "output_type": "execute_result"
    },
    {
     "data": {
      "image/png": "[encoded data removed]",
      "text/plain": [
       "<Figure size 432x288 with 1 Axes>"
      ]
     },
     "metadata": {
      "needs_background": "light"
     },
     "output_type": "display_data"
    }
   ],
   "source": [
    "plt.plot(list(imp.keys()), list(imp.values()))\n",
    "#plt.plot(list(imp1.keys()), list(imp1.values()))\n",
    "#plt.plot(list(imp2.keys()), list(imp2.values()))\n",
    "#plt.plot(list(imp3.keys()), list(imp3.values()))\n",
    "plt.xlabel('Strike')\n",
    "plt.ylabel('Implied Volatility')\n",
    "plt.title(\"IV for closed formula prices\")\n",
    "#plt.ylim(0.18,0.22)"
   ]
  },
  {
   "cell_type": "code",
   "execution_count": 71,
   "id": "8dbcc4fe",
   "metadata": {},
   "outputs": [
    {
     "data": {
      "text/plain": [
       "[<matplotlib.lines.Line2D at 0x7fcc990253d0>]"
      ]
     },
     "execution_count": 71,
     "metadata": {},
     "output_type": "execute_result"
    },
    {
     "data": {
      "image/png": "[encoded data removed]",
      "text/plain": [
       "<Figure size 432x288 with 1 Axes>"
      ]
     },
     "metadata": {
      "needs_background": "light"
     },
     "output_type": "display_data"
    }
   ],
   "source": [
    "plt.plot(list(imp.keys()), list(imp.values()))\n",
    "plt.plot(list(imp_ch.keys()), list(imp_ch.values()))\n",
    "plt.plot(list(imp_ch.keys()), )\n",
    "plt.plot(list(imp_ch.keys()), [0.1479 for i in imp.values()])\n"
   ]
  },
  {
   "cell_type": "code",
   "execution_count": 72,
   "id": "b99e678c",
   "metadata": {},
   "outputs": [],
   "source": []
  },
  {
   "cell_type": "code",
   "execution_count": 101,
   "id": "0fbdee74",
   "metadata": {},
   "outputs": [],
   "source": [
    "# predictions by closed formula\n",
    "K_nlist = [1025, 1100,1125,1150,1175,1200,1225,1250,1275,1300,1325]\n",
    "mc_predictions = []\n",
    "for k in K_nlist:\n",
    "    mc_predictions.append(ch_price(337/365,k))\n",
    "    \n",
    "imp_ch = implied_vol(0.2,1, mc_predictions)\n",
    "imp_market = implied_vol(0.2,1, [146.50, 96.20,81.7,68.30,56.6,46.1,36.9,29.3,22.5,17.2,12.8])\n",
    "imp_sub = implied_vol(0.2, 1, [142.51, 94.41, 81.49, 66.09, 54.72, 47.26, 36.25, 29.77, 24.12, 18.31, 15.99])"
   ]
  },
  {
   "cell_type": "code",
   "execution_count": 100,
   "id": "cf311956",
   "metadata": {},
   "outputs": [
    {
     "data": {
      "text/plain": [
       "<matplotlib.legend.Legend at 0x7fccba6a50a0>"
      ]
     },
     "execution_count": 100,
     "metadata": {},
     "output_type": "execute_result"
    },
    {
     "data": {
      "image/png": "[encoded data removed]",
      "text/plain": [
       "<Figure size 432x288 with 1 Axes>"
      ]
     },
     "metadata": {
      "needs_background": "light"
     },
     "output_type": "display_data"
    }
   ],
   "source": [
    "plt.plot(K_nlist, list(imp_market.values()), label = \"Market values\")\n",
    "plt.plot(K_nlist, list(imp_ch.values()), label = \"Closed formula\")\n",
    "plt.plot(K_nlist, list(imp_sub.values()), label = \"Meixner-CIR \")\n",
    "plt.plot(K_nlist, [0.1812 for i in K_nlist], label = \"Schoutens BS volatility\")\n",
    "plt.ylabel(\"Implied Volatility\")\n",
    "plt.xlabel(\"Strikes\")\n",
    "plt.title(\"Comparison of Implied Volatilities\")\n",
    "plt.legend()"
   ]
  },
  {
   "cell_type": "code",
   "execution_count": 109,
   "id": "75ab6069",
   "metadata": {},
   "outputs": [
    {
     "name": "stdout",
     "output_type": "stream",
     "text": [
      "BS APRPE:  0.1703159125366254\n"
     ]
    }
   ],
   "source": [
    "def BS_eur_call(T, K, sigma):\n",
    "    D1 = (np.log(S0/K) + (r - q +sigma**2/2)*(T))/(sigma*np.sqrt(T))\n",
    "    D2 = D1 - sigma*np.sqrt(T)\n",
    "    call = np.exp(-q*T)*S0*norm.cdf(D1) - K*np.exp(-r*T)*norm.cdf(D2)\n",
    "    return call\n",
    "\n",
    "\n",
    "BS_predictions = []\n",
    "for k in K_list:\n",
    "    BS_predictions.append(BS_eur_call(338/365, k, 0.1479))\n",
    "BS_comp = list(zip(BS_predictions, prices_list))\n",
    "\n",
    "print(\"BS APRPE: \", np.mean([abs(market - model)/market for model, market in BS_comp]))"
   ]
  },
  {
   "cell_type": "code",
   "execution_count": null,
   "id": "b7ae5d8f",
   "metadata": {},
   "outputs": [],
   "source": []
  }
 ],
 "metadata": {
  "kernelspec": {
   "display_name": "Python 3",
   "language": "python",
   "name": "python3"
  },
  "language_info": {
   "codemirror_mode": {
    "name": "ipython",
    "version": 3
   },
   "file_extension": ".py",
   "mimetype": "text/x-python",
   "name": "python",
   "nbconvert_exporter": "python",
   "pygments_lexer": "ipython3",
   "version": "3.8.8"
  }
 },
 "nbformat": 4,
 "nbformat_minor": 5
}
