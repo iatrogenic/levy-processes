{
 "cells": [
  {
   "cell_type": "code",
   "execution_count": 1,
   "id": "eaa6cae4",
   "metadata": {},
   "outputs": [],
   "source": [
    "import numpy as np\n",
    "from matplotlib import pyplot as plt"
   ]
  },
  {
   "cell_type": "markdown",
   "id": "7564c6ea",
   "metadata": {},
   "source": [
    "# Brownian Motion\n",
    "\n",
    "$$\\begin{align}\n",
    "B_0 &= 0 \\\\\n",
    "B_{n\\Delta t} &= B_{(t-1)\\Delta t} + \\sqrt{\\Delta t} z_n\n",
    "\\end{align}$$\n",
    "\n",
    "where $z_n \\sim \\mathcal{N}(0,1)$."
   ]
  },
  {
   "cell_type": "code",
   "execution_count": 2,
   "id": "2a5e66dc",
   "metadata": {},
   "outputs": [],
   "source": [
    "# Alternatively we can drop the T variable and merely stipulate an increment + number of points to compute\n",
    "def BM_path(T, time_points):\n",
    "    increment = T/time_points\n",
    "    trajectory = [0]\n",
    "    for i in range(time_points):\n",
    "        realization = trajectory[-1]+np.sqrt(increment)*np.random.normal()\n",
    "        trajectory.append(realization)\n",
    "    return trajectory"
   ]
  },
  {
   "cell_type": "code",
   "execution_count": 3,
   "id": "a2c6ddde",
   "metadata": {},
   "outputs": [
    {
     "data": {
      "text/plain": [
       "[<matplotlib.lines.Line2D at 0x7fe422395eb0>]"
      ]
     },
     "execution_count": 3,
     "metadata": {},
     "output_type": "execute_result"
    },
    {
     "data": {
      "image/png": "[encoded data removed]",
      "text/plain": [
       "<Figure size 432x288 with 1 Axes>"
      ]
     },
     "metadata": {
      "needs_background": "light"
     },
     "output_type": "display_data"
    }
   ],
   "source": [
    "# to-do: x-axis should be scaled to end with value T\n",
    "plt.plot(BM_path(50,50))"
   ]
  },
  {
   "cell_type": "markdown",
   "id": "4b1560ca",
   "metadata": {},
   "source": [
    "# Poisson process (MIGHT NOT BE CORRECT. CHECK LATER)"
   ]
  },
  {
   "cell_type": "markdown",
   "id": "9dfbe2e7",
   "metadata": {},
   "source": [
    "The random numbers with exponential distribution can be computed using `numpy.random.exponential`:\n",
    "https://numpy.org/doc/stable/reference/random/generated/numpy.random.exponential.html\n",
    "\n",
    "The exponential function above uses a different parameter $\\beta = 1/\\lambda$."
   ]
  },
  {
   "cell_type": "code",
   "execution_count": 4,
   "id": "ca7e95f0",
   "metadata": {},
   "outputs": [],
   "source": [
    "def poisson_path(intensity,T,time_points):\n",
    "    #parameters & discretization\n",
    "    time_points -= 1\n",
    "    increment = T/time_points\n",
    "    beta = 1/intensity\n",
    "    \n",
    "    #generating trajectory for s process\n",
    "    s_trajectory = [0]\n",
    "    for i in range(time_points):\n",
    "        realization = s_trajectory[-1]+np.random.exponential(beta)\n",
    "        s_trajectory.append(realization)\n",
    "    \n",
    "    #poisson trajectory\n",
    "    poisson_trajectory = [0]\n",
    "    for i in range(1,time_points+1):\n",
    "        realization = max([k for k in range(0,time_points) if s_trajectory[k] <= i*increment])\n",
    "        poisson_trajectory.append(realization)\n",
    "    \n",
    "    return poisson_trajectory"
   ]
  },
  {
   "cell_type": "code",
   "execution_count": 5,
   "id": "bd2d4d46",
   "metadata": {},
   "outputs": [
    {
     "name": "stdout",
     "output_type": "stream",
     "text": [
      "[0, 0, 1, 3, 3, 3, 4, 6, 8, 9, 11, 13, 15, 16, 18, 18, 18, 19, 19, 21, 22, 23, 23, 25, 26, 27, 28, 28, 28, 28]\n"
     ]
    },
    {
     "data": {
      "image/png": "[encoded data removed]",
      "text/plain": [
       "<Figure size 432x288 with 1 Axes>"
      ]
     },
     "metadata": {
      "needs_background": "light"
     },
     "output_type": "display_data"
    }
   ],
   "source": [
    "p = poisson_path(1, 30, 30)\n",
    "plt.step([i for i in range(0,30)],p)\n",
    "print(p)"
   ]
  },
  {
   "cell_type": "markdown",
   "id": "1be3d278",
   "metadata": {},
   "source": [
    "# Same as above but with the method described by the professor in the slides (exponential spacings)"
   ]
  },
  {
   "cell_type": "code",
   "execution_count": 6,
   "id": "037a8393",
   "metadata": {},
   "outputs": [],
   "source": [
    "def poisson_path_2(intensity, T, time_points):\n",
    "    #parameters & discretization\n",
    "    time_points -= 1\n",
    "    increment = T/time_points\n",
    "    beta = 1/intensity\n",
    "    \n",
    "    #generating trajectory for s process\n",
    "    s_trajectory = [0]\n",
    "    for i in range(time_points):\n",
    "        realization = s_trajectory[-1]-np.log(np.random.uniform())/intensity\n",
    "        s_trajectory.append(realization)\n",
    "    \n",
    "    #poisson trajectory\n",
    "    trajectory = [0]\n",
    "    times = [0]\n",
    "    for i in range(1,time_points+1):\n",
    "        realization = max([k for k in range(0,time_points+1) if s_trajectory[k] <= i*increment])\n",
    "        trajectory.append(realization)\n",
    "        times.append(i*increment)\n",
    "    \n",
    "    return dict(zip(times, trajectory))"
   ]
  },
  {
   "cell_type": "code",
   "execution_count": 7,
   "id": "715d0454",
   "metadata": {},
   "outputs": [
    {
     "data": {
      "text/plain": [
       "[<matplotlib.lines.Line2D at 0x7fe4224c6430>]"
      ]
     },
     "execution_count": 7,
     "metadata": {},
     "output_type": "execute_result"
    },
    {
     "data": {
      "image/png": "[encoded data removed]",
      "text/plain": [
       "<Figure size 1080x432 with 1 Axes>"
      ]
     },
     "metadata": {
      "needs_background": "light"
     },
     "output_type": "display_data"
    }
   ],
   "source": [
    "p = poisson_path_2(0.5, 30, 3000)\n",
    "plt.figure(figsize = (15,6))\n",
    "plt.step(p.keys(),p.values())"
   ]
  },
  {
   "cell_type": "markdown",
   "id": "7103de09",
   "metadata": {},
   "source": [
    "## Prof said that we should try comparing our implementation of the Poisson process with someone else's. We do this next"
   ]
  },
  {
   "cell_type": "markdown",
   "id": "a356e845",
   "metadata": {},
   "source": [
    "# Discretizing the Lévy measure\n",
    "\n",
    "$$ \\nu(dx) = d \\frac{\\exp(bx/a)}{x \\sinh(\\pi x /a)} \\, dx$$"
   ]
  },
  {
   "cell_type": "code",
   "execution_count": 8,
   "id": "6ca86c75",
   "metadata": {},
   "outputs": [],
   "source": [
    "def meixner_meas(x, a = 0.3977,b = -1.4940,d = 0.3462):\n",
    "    return d*(np.exp(b*x/a)/(x*np.sinh(np.pi*x/a)))"
   ]
  },
  {
   "cell_type": "code",
   "execution_count": 9,
   "id": "6bbef3d6",
   "metadata": {},
   "outputs": [
    {
     "data": {
      "text/plain": [
       "0.17456211927149787"
      ]
     },
     "execution_count": 9,
     "metadata": {},
     "output_type": "execute_result"
    }
   ],
   "source": [
    "meixner_meas(-0.5)"
   ]
  },
  {
   "cell_type": "code",
   "execution_count": 10,
   "id": "d3729edd",
   "metadata": {},
   "outputs": [
    {
     "data": {
      "text/plain": [
       "(-0.01, 0.01)"
      ]
     },
     "execution_count": 10,
     "metadata": {},
     "output_type": "execute_result"
    },
    {
     "data": {
      "image/png": "[encoded data removed]",
      "text/plain": [
       "<Figure size 432x288 with 1 Axes>"
      ]
     },
     "metadata": {
      "needs_background": "light"
     },
     "output_type": "display_data"
    }
   ],
   "source": [
    "# code to plot meixner density function\n",
    "x1 = np.linspace(-1,-0.001,3000)\n",
    "x2 = np.linspace(0.001,1,3000)\n",
    "plt.plot(x1,meixner_meas(x1))\n",
    "plt.plot(x2,meixner_meas(x2))\n",
    "plt.xlim(-0.01,0.01)"
   ]
  },
  {
   "cell_type": "markdown",
   "id": "92c02709",
   "metadata": {},
   "source": [
    "`ilb_partition(k, alpha)` returns an `np.array` "
   ]
  },
  {
   "cell_type": "code",
   "execution_count": 11,
   "id": "c2ee6ee7",
   "metadata": {},
   "outputs": [],
   "source": [
    "import scipy.integrate as integrate\n",
    "\n",
    "# creates a partition using Inverse Linear Boundaries method described in Schouten's book\n",
    "def ilb_partition(k, alpha):\n",
    "    lhs = [-alpha*i**(-1) for i in range(1,k+2)]\n",
    "    #rhs = [alpha/i for i in range(1,k+2)]\n",
    "    rhs = [-x for x in reversed(lhs)]\n",
    "    return lhs, rhs\n",
    "\n",
    "left_part, right_part = ilb_partition(50,0.2)\n",
    "\n",
    "left_lambdas = [integrate.quad(meixner_meas, left_part[i], left_part[i+1])[0] for i in range(len(left_part)-1)]\n",
    "right_lambdas = [integrate.quad(meixner_meas, right_part[i], right_part[i+1])[0] for i in range(len(right_part)-1)]\n",
    "lambdas = left_lambdas + right_lambdas\n",
    "\n",
    "#lambdas = [integrate.quad(lambda x: meixner_meas(x), a_array[i],a_array[i+1] )[0] for i in range(len(a_array)-1)]"
   ]
  },
  {
   "cell_type": "code",
   "execution_count": 12,
   "id": "9df52396",
   "metadata": {},
   "outputs": [
    {
     "data": {
      "text/plain": [
       "[0.3024730637048456,\n",
       " 0.27759185212020654,\n",
       " 0.26281774528290813,\n",
       " 0.2538236772735484,\n",
       " 0.24785345618882504,\n",
       " 0.24361956345784855,\n",
       " 0.24046631753402806,\n",
       " 0.23802897052955838,\n",
       " 0.23608952926280655,\n",
       " 0.23451003056342792,\n",
       " 0.23319902758048724,\n",
       " 0.23209356129945188,\n",
       " 0.23114889258592072,\n",
       " 0.2303323676853072,\n",
       " 0.22961960171441353,\n",
       " 0.228992020463813,\n",
       " 0.2284352288561289,\n",
       " 0.2279378993252063,\n",
       " 0.22749099676354964,\n",
       " 0.22708722696699862,\n",
       " 0.22672063689370056,\n",
       " 0.2263863201590602,\n",
       " 0.22608019682373787,\n",
       " 0.22579884650440218,\n",
       " 0.22553938033571325,\n",
       " 0.22529934163085039,\n",
       " 0.22507662800950637,\n",
       " 0.22486942977132876,\n",
       " 0.22467618069520995,\n",
       " 0.22449551843744955,\n",
       " 0.22432625241347198,\n",
       " 0.22416733756412643,\n",
       " 0.2240178527863229,\n",
       " 0.22387698308858323,\n",
       " 0.22374400474222103,\n",
       " 0.2236182728575089,\n",
       " 0.22349921093518102,\n",
       " 0.22338630203636844,\n",
       " 0.22327908128593096,\n",
       " 0.22317712948007204,\n",
       " 0.2230800676130362,\n",
       " 0.22298755217238783,\n",
       " 0.222899271079816,\n",
       " 0.22281494017649614,\n",
       " 0.2227343001695952,\n",
       " 0.22265711397094665,\n",
       " 0.22258316437026737,\n",
       " 0.22251225199494287,\n",
       " 0.2224441935159975,\n",
       " 0.22237882006631499,\n",
       " 0.21585914773919201,\n",
       " 0.215792836040973,\n",
       " 0.21572378067715228,\n",
       " 0.215651807790729,\n",
       " 0.21557672852055243,\n",
       " 0.2154983373472106,\n",
       " 0.21541641021521338,\n",
       " 0.2153307023953214,\n",
       " 0.21524094604413432,\n",
       " 0.21514684740961862,\n",
       " 0.2150480836213059,\n",
       " 0.2149442989912041,\n",
       " 0.2148351007362301,\n",
       " 0.21472005401376498,\n",
       " 0.21459867613819367,\n",
       " 0.21447042981631984,\n",
       " 0.21433471520187483,\n",
       " 0.21419086052147518,\n",
       " 0.21403811096316744,\n",
       " 0.21387561544002537,\n",
       " 0.21370241073916144,\n",
       " 0.2135174024333412,\n",
       " 0.21331934175682082,\n",
       " 0.21310679741387992,\n",
       " 0.21287812097595274,\n",
       " 0.21263140409984205,\n",
       " 0.21236442522004728,\n",
       " 0.21207458256600503,\n",
       " 0.21175880923067558,\n",
       " 0.21141346442008524,\n",
       " 0.21103419271289264,\n",
       " 0.21061573979259388,\n",
       " 0.21015170810469477,\n",
       " 0.20963422829431191,\n",
       " 0.2090535105241868,\n",
       " 0.20839722116752177,\n",
       " 0.20764960017814496,\n",
       " 0.20679018405936914,\n",
       " 0.205791912602092,\n",
       " 0.20461824278016913,\n",
       " 0.20321860557280136,\n",
       " 0.2015209813657428,\n",
       " 0.1994192173789582,\n",
       " 0.196750181604321,\n",
       " 0.1932498463707283,\n",
       " 0.18846172172397943,\n",
       " 0.1815248998817525,\n",
       " 0.1706103488430523,\n",
       " 0.15111034965298917,\n",
       " 0.10843269819096046]"
      ]
     },
     "execution_count": 12,
     "metadata": {},
     "output_type": "execute_result"
    }
   ],
   "source": [
    "lambdas"
   ]
  },
  {
   "cell_type": "code",
   "execution_count": 13,
   "id": "87dfde22",
   "metadata": {},
   "outputs": [
    {
     "data": {
      "text/plain": [
       "[<matplotlib.lines.Line2D at 0x7fe4228d01c0>]"
      ]
     },
     "execution_count": 13,
     "metadata": {},
     "output_type": "execute_result"
    },
    {
     "data": {
      "image/png": "[encoded data removed]",
      "text/plain": [
       "<Figure size 432x288 with 1 Axes>"
      ]
     },
     "metadata": {
      "needs_background": "light"
     },
     "output_type": "display_data"
    }
   ],
   "source": [
    "plt.plot(left_part[:-1], left_lambdas, \".\")\n",
    "plt.plot(right_part[:-1],right_lambdas,\".\")"
   ]
  },
  {
   "cell_type": "code",
   "execution_count": 14,
   "id": "eb515996",
   "metadata": {},
   "outputs": [
    {
     "data": {
      "text/plain": [
       "[<matplotlib.lines.Line2D at 0x7fe430167940>]"
      ]
     },
     "execution_count": 14,
     "metadata": {},
     "output_type": "execute_result"
    },
    {
     "data": {
      "image/png": "[encoded data removed]",
      "text/plain": [
       "<Figure size 432x288 with 1 Axes>"
      ]
     },
     "metadata": {
      "needs_background": "light"
     },
     "output_type": "display_data"
    }
   ],
   "source": [
    "plt.plot(left_part[:-1], list(map(meixner_meas, left_part[:-1])), \".\")\n",
    "plt.plot(right_part[:-1], list(map(meixner_meas, right_part[:-1])), \".\")"
   ]
  },
  {
   "cell_type": "markdown",
   "id": "f6e3a6f5",
   "metadata": {},
   "source": [
    "## Approximation of small jumps by Brownian motion"
   ]
  },
  {
   "cell_type": "markdown",
   "id": "fde65dd7",
   "metadata": {},
   "source": [
    "$$ \\sigma^2(\\epsilon) = \\int_{-\\epsilon}^\\epsilon x^2 \\, d\\nu(x) $$"
   ]
  },
  {
   "cell_type": "code",
   "execution_count": 15,
   "id": "cf861929",
   "metadata": {},
   "outputs": [],
   "source": [
    "#this will be reused\n",
    "x_sqrd = lambda x : x**2*meixner_meas(x) if x!=0 else 0\n",
    "\n",
    "# epsilon must be > 0\n",
    "def sigma_sqrd(epsilon):\n",
    "    return integrate.quad(x_sqrd, -epsilon, epsilon)[0]\n",
    "\n",
    "c_left = [-np.sqrt(integrate.quad(x_sqrd, left_part[i], left_part[i+1])[0]/lambdas[i]) for i in range(len(left_part)-1)]\n",
    "c_right = [np.sqrt(integrate.quad(x_sqrd, right_part[i], right_part[i+1])[0]/lambdas[i]) for i in range(len(right_part)-1)]\n",
    "\n",
    "c = c_left + c_right"
   ]
  },
  {
   "cell_type": "code",
   "execution_count": 16,
   "id": "394e9bb1",
   "metadata": {},
   "outputs": [
    {
     "data": {
      "text/plain": [
       "50"
      ]
     },
     "execution_count": 16,
     "metadata": {},
     "output_type": "execute_result"
    }
   ],
   "source": [
    "len(c_left)"
   ]
  },
  {
   "cell_type": "markdown",
   "id": "d0b64528",
   "metadata": {},
   "source": [
    "From Schoutens' pg. 63 we have that\n",
    "$$ \\gamma = ad \\tan(b/2) -2d \\int_1^\\infty \\frac{\\sinh(bx/a)}{\\sinh(\\pi x/a)} \\, dx$$"
   ]
  },
  {
   "cell_type": "code",
   "execution_count": 17,
   "id": "d1e56988",
   "metadata": {},
   "outputs": [],
   "source": [
    "def gamma(a = 0.3977,b = -1.4940,d = 0.3462):\n",
    "    return a*d*np.tan(b/2)-2*d*integrate.quad(lambda x: np.sinh(b*x/a)/np.sinh(np.pi*x/a), 1, 20)[0]"
   ]
  },
  {
   "cell_type": "code",
   "execution_count": 18,
   "id": "103262fa",
   "metadata": {},
   "outputs": [],
   "source": [
    "# just so we're not repeatedly computing the integrals in these function later on\n",
    "gamma_ = gamma()\n",
    "sigma_ = np.sqrt(sigma_sqrd(right_part[0]))\n",
    "\n",
    "#the other approximation given in the slides\n",
    "#sigma_ = np.sqrt(2*0.0890*5.0262/np.pi)*np.sqrt(right_part[0])"
   ]
  },
  {
   "cell_type": "markdown",
   "id": "51855f67",
   "metadata": {},
   "source": [
    "We want to simulate the process\n",
    "\n",
    "$$ X^d_t = \\gamma t + \\sigma(\\epsilon) B_t + \\sum_{i=1}^d c_i (N_t^{(i)} - \\lambda_i t \\mathbb{1}_{|c_i|<1})$$\n",
    "\n",
    "because, since the Meixner process has no Brownian component, we have $\\tilde \\sigma ^2 = \\sigma^2(\\epsilon)$."
   ]
  },
  {
   "cell_type": "code",
   "execution_count": 19,
   "id": "5fa510d2",
   "metadata": {},
   "outputs": [],
   "source": [
    "indicator = lambda cond : 1 if cond else 1"
   ]
  },
  {
   "cell_type": "code",
   "execution_count": 20,
   "id": "6c3acd63",
   "metadata": {},
   "outputs": [
    {
     "data": {
      "text/plain": [
       "0.018539908061257437"
      ]
     },
     "execution_count": 20,
     "metadata": {},
     "output_type": "execute_result"
    }
   ],
   "source": [
    "sigma_"
   ]
  },
  {
   "cell_type": "code",
   "execution_count": 23,
   "id": "5d9f99f1",
   "metadata": {},
   "outputs": [],
   "source": [
    "def meixner_trajectory(T, time_points):\n",
    "    # increment continues to be useless\n",
    "    #increment = T/time_points\n",
    "    \n",
    "    #generate one BM trajectory\n",
    "    bm = BM_path(T, time_points)\n",
    "    \n",
    "    #generate 100 poisson process trajectories with the corresponding, previously computed intensities\n",
    "    N = [list(poisson_path_2(l, T, time_points).values()) for l in lambdas]\n",
    "    trajectory = []\n",
    "    \n",
    "    for i in range(time_points):\n",
    "        \n",
    "        # the number 100 below is d, which should probably not be hardcoded\n",
    "        s = [c[j]*( N[j][i] - lambdas[j]*i*T/time_points*indicator(np.abs(c[j]) < 1) ) for j in range(100)]\n",
    "        realization = gamma_*i*T/time_points + sigma_*bm[i] + sum(s)\n",
    "        trajectory.append(realization)\n",
    "    \n",
    "    return trajectory"
   ]
  },
  {
   "cell_type": "code",
   "execution_count": 28,
   "id": "f2148c30",
   "metadata": {},
   "outputs": [
    {
     "data": {
      "text/plain": [
       "[<matplotlib.lines.Line2D at 0x7fe422b3f100>]"
      ]
     },
     "execution_count": 28,
     "metadata": {},
     "output_type": "execute_result"
    },
    {
     "data": {
      "image/png": "[encoded data removed]",
      "text/plain": [
       "<Figure size 432x288 with 1 Axes>"
      ]
     },
     "metadata": {
      "needs_background": "light"
     },
     "output_type": "display_data"
    }
   ],
   "source": [
    "# clearly not working correctly\n",
    "plt.step([i/400 for i in range(400)], meixner_trajectory(1, 400))"
   ]
  },
  {
   "cell_type": "code",
   "execution_count": null,
   "id": "fb5eb916",
   "metadata": {},
   "outputs": [],
   "source": []
  }
 ],
 "metadata": {
  "kernelspec": {
   "display_name": "Python 3",
   "language": "python",
   "name": "python3"
  },
  "language_info": {
   "codemirror_mode": {
    "name": "ipython",
    "version": 3
   },
   "file_extension": ".py",
   "mimetype": "text/x-python",
   "name": "python",
   "nbconvert_exporter": "python",
   "pygments_lexer": "ipython3",
   "version": "3.8.8"
  }
 },
 "nbformat": 4,
 "nbformat_minor": 5
}
