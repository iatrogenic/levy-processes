{
 "cells": [
  {
   "cell_type": "code",
   "execution_count": 5,
   "id": "eaa6cae4",
   "metadata": {},
   "outputs": [],
   "source": [
    "import numpy as np\n",
    "from matplotlib import pyplot as plt"
   ]
  },
  {
   "cell_type": "markdown",
   "id": "7564c6ea",
   "metadata": {},
   "source": [
    "# Brownian Motion\n",
    "\n",
    "$$\\begin{align}\n",
    "B_0 &= 0 \\\\\n",
    "B_{n\\Delta t} &= B_{(t-1)\\Delta t} + \\sqrt{\\Delta t} z_n\n",
    "\\end{align}$$\n",
    "\n",
    "where $z_n \\sim \\mathcal{N}(0,1)$."
   ]
  },
  {
   "cell_type": "code",
   "execution_count": 28,
   "id": "2a5e66dc",
   "metadata": {},
   "outputs": [],
   "source": [
    "# Alternatively we can drop the T variable and merely stipulate an increment + number of points to compute\n",
    "def BM_path(T, time_points):\n",
    "    increment = T/time_points\n",
    "    trajectory = [0]\n",
    "    for i in range(time_points):\n",
    "        realization = trajectory[-1]+np.sqrt(increment)*np.random.normal()\n",
    "        trajectory.append(realization)\n",
    "    return trajectory"
   ]
  },
  {
   "cell_type": "code",
   "execution_count": 108,
   "id": "a2c6ddde",
   "metadata": {},
   "outputs": [
    {
     "data": {
      "text/plain": [
       "[<matplotlib.lines.Line2D at 0x7f7c680e34f0>]"
      ]
     },
     "execution_count": 108,
     "metadata": {},
     "output_type": "execute_result"
    },
    {
     "data": {
      "image/png": "[encoded data removed]",
      "text/plain": [
       "<Figure size 432x288 with 1 Axes>"
      ]
     },
     "metadata": {
      "needs_background": "light"
     },
     "output_type": "display_data"
    }
   ],
   "source": [
    "# to-do: x-axis should be scaled to end with value T\n",
    "plt.plot(BM_path(1,10000))"
   ]
  },
  {
   "cell_type": "markdown",
   "id": "4b1560ca",
   "metadata": {},
   "source": [
    "# Poisson process (MIGHT NOT BE CORRECT. CHECK LATER)"
   ]
  },
  {
   "cell_type": "markdown",
   "id": "9dfbe2e7",
   "metadata": {},
   "source": [
    "The random numbers with exponential distribution can be computed using `numpy.random.exponential`:\n",
    "https://numpy.org/doc/stable/reference/random/generated/numpy.random.exponential.html\n",
    "\n",
    "The exponential function above uses a different parameter $\\beta = 1/\\lambda$."
   ]
  },
  {
   "cell_type": "code",
   "execution_count": 83,
   "id": "ca7e95f0",
   "metadata": {},
   "outputs": [],
   "source": [
    "def poisson_path(intensity,T,time_points):\n",
    "    #parameters & discretization\n",
    "    time_points -= 1\n",
    "    increment = T/time_points\n",
    "    beta = 1/intensity\n",
    "    \n",
    "    #generating trajectory for s process\n",
    "    s_trajectory = [0]\n",
    "    for i in range(time_points):\n",
    "        realization = s_trajectory[-1]+np.random.exponential(beta)\n",
    "        s_trajectory.append(realization)\n",
    "    \n",
    "    #poisson trajectory\n",
    "    poisson_trajectory = [0]\n",
    "    for i in range(1,time_points+1):\n",
    "        realization = max([k for k in range(0,time_points) if s_trajectory[k] <= i*increment])\n",
    "        poisson_trajectory.append(realization)\n",
    "    \n",
    "    return poisson_trajectory"
   ]
  },
  {
   "cell_type": "code",
   "execution_count": 84,
   "id": "bd2d4d46",
   "metadata": {},
   "outputs": [
    {
     "name": "stdout",
     "output_type": "stream",
     "text": [
      "[0, 2, 5, 7, 7, 7, 7, 10, 11, 11, 12, 13, 13, 16, 17, 19, 21, 22, 22, 22, 24, 24, 27, 28, 28, 28, 28, 28, 28, 28]\n"
     ]
    },
    {
     "data": {
      "image/png": "[encoded data removed]",
      "text/plain": [
       "<Figure size 432x288 with 1 Axes>"
      ]
     },
     "metadata": {
      "needs_background": "light"
     },
     "output_type": "display_data"
    }
   ],
   "source": [
    "p = poisson_path(1, 30, 30)\n",
    "plt.step([i for i in range(0,30)],p)\n",
    "print(p)"
   ]
  },
  {
   "cell_type": "markdown",
   "id": "1be3d278",
   "metadata": {},
   "source": [
    "# Same as above but with the method described by the professor in the slides (exponential spacings)"
   ]
  },
  {
   "cell_type": "code",
   "execution_count": 95,
   "id": "037a8393",
   "metadata": {},
   "outputs": [],
   "source": [
    "def poisson_path_2(intensity, T, time_points):\n",
    "    #parameters & discretization\n",
    "    time_points -= 1\n",
    "    increment = T/time_points\n",
    "    beta = 1/intensity\n",
    "    \n",
    "    #generating trajectory for s process\n",
    "    s_trajectory = [0]\n",
    "    for i in range(time_points):\n",
    "        realization = s_trajectory[-1]-np.log(np.random.uniform())/intensity\n",
    "        s_trajectory.append(realization)\n",
    "    \n",
    "    #poisson trajectory\n",
    "    poisson_trajectory = [0]\n",
    "    for i in range(1,time_points+1):\n",
    "        realization = max([k for k in range(0,time_points+1) if s_trajectory[k] <= i*increment])\n",
    "        poisson_trajectory.append(realization)\n",
    "    \n",
    "    return poisson_trajectory"
   ]
  },
  {
   "cell_type": "code",
   "execution_count": 106,
   "id": "715d0454",
   "metadata": {},
   "outputs": [
    {
     "name": "stdout",
     "output_type": "stream",
     "text": [
      "[0, 0, 0, 0, 0, 0, 0, 0, 0, 0, 0, 0, 0, 0, 0, 0, 0, 0, 0, 1, 1, 1, 1, 1, 1, 1, 1, 1, 1, 1, 1, 1, 1, 1, 1, 1, 1, 1, 1, 1, 1, 1, 2, 2, 2, 2, 2, 2, 2, 2, 2, 2, 2, 2, 2, 2, 2, 2, 2, 2, 2, 2, 2, 2, 2, 2, 2, 3, 3, 3, 4, 4, 4, 4, 4, 4, 4, 4, 4, 4, 4, 4, 4, 4, 4, 4, 4, 4, 4, 4, 4, 4, 4, 4, 4, 4, 4, 4, 4, 4, 4, 5, 5, 5, 5, 5, 5, 5, 5, 5, 5, 5, 5, 5, 5, 5, 5, 5, 5, 5, 5, 5, 5, 5, 5, 5, 5, 5, 5, 5, 5, 5, 5, 5, 5, 5, 5, 5, 5, 5, 5, 5, 5, 5, 5, 5, 5, 5, 5, 5, 5, 5, 5, 5, 5, 5, 5, 6, 6, 6, 7, 7, 7, 7, 7, 7, 7, 7, 7, 7, 7, 7, 7, 7, 7, 7, 7, 7, 7, 7, 7, 7, 7, 7, 7, 7, 7, 7, 7, 7, 7, 7, 7, 7, 7, 7, 7, 7, 7, 7, 7, 7, 7, 7, 7, 7, 7, 7, 7, 7, 7, 7, 7, 8, 8, 8, 8, 8, 8, 8, 8, 8, 8, 8, 8, 8, 8, 8, 8, 8, 8, 9, 9, 9, 9, 9, 9, 9, 9, 9, 9, 9, 9, 9, 9, 9, 9, 9, 9, 9, 9, 9, 9, 9, 9, 9, 9, 9, 9, 9, 9, 9, 10, 10, 10, 10, 10, 10, 10, 10, 10, 10, 10, 10, 10, 10, 10, 10, 10, 10, 10, 10, 10, 10, 10, 10, 10, 10, 10, 10, 10, 10, 10, 10, 10, 10, 10, 10, 10, 10]\n"
     ]
    },
    {
     "data": {
      "image/png": "[encoded data removed]",
      "text/plain": [
       "<Figure size 1080x432 with 1 Axes>"
      ]
     },
     "metadata": {
      "needs_background": "light"
     },
     "output_type": "display_data"
    }
   ],
   "source": [
    "p = poisson_path_2(0.5, 30, 300)\n",
    "plt.figure(figsize = (15,6))\n",
    "plt.step([i for i in range(0,300)],p)\n",
    "print(p)"
   ]
  },
  {
   "cell_type": "markdown",
   "id": "97b29f0c",
   "metadata": {},
   "source": [
    "## Prof said that we should try comparing our implementation of the Poisson process with someone else's. We do this next"
   ]
  },
  {
   "cell_type": "markdown",
   "id": "a356e845",
   "metadata": {},
   "source": [
    "# Discretizing the Lévy measure\n",
    "\n",
    "$$ \\nu(dx) = d \\frac{\\exp(bx/a)}{x \\sinh(\\pi x /a)} \\, dx$$"
   ]
  },
  {
   "cell_type": "code",
   "execution_count": 175,
   "id": "6ca86c75",
   "metadata": {},
   "outputs": [],
   "source": [
    "def meixner_meas(x, a = 0.0890,b = -1.1323,d = 5.0262):\n",
    "    return d*(np.exp(b*x/a)/(x*np.sinh(np.pi*x/a)))"
   ]
  },
  {
   "cell_type": "code",
   "execution_count": 178,
   "id": "4739b403",
   "metadata": {},
   "outputs": [
    {
     "data": {
      "text/plain": [
       "0.0002517176883670683"
      ]
     },
     "execution_count": 178,
     "metadata": {},
     "output_type": "execute_result"
    }
   ],
   "source": [
    "meixner_meas(-0.5)"
   ]
  },
  {
   "cell_type": "code",
   "execution_count": 181,
   "id": "7a4d6784",
   "metadata": {},
   "outputs": [
    {
     "data": {
      "text/plain": [
       "(-0.01, 0.01)"
      ]
     },
     "execution_count": 181,
     "metadata": {},
     "output_type": "execute_result"
    },
    {
     "data": {
      "image/png": "[encoded data removed]",
      "text/plain": [
       "<Figure size 432x288 with 1 Axes>"
      ]
     },
     "metadata": {
      "needs_background": "light"
     },
     "output_type": "display_data"
    }
   ],
   "source": [
    "# code to plot meixner density function\n",
    "x1 = np.linspace(-1,-0.001,3000)\n",
    "x2 = np.linspace(0.001,1,3000)\n",
    "plt.plot(x1,meixner_meas(x1))\n",
    "plt.plot(x2,meixner_meas(x2))\n",
    "plt.xlim(-0.01,0.01)"
   ]
  },
  {
   "cell_type": "markdown",
   "id": "8e30399f",
   "metadata": {},
   "source": [
    "`ilb_partition(k, alpha)` returns an `np.array` "
   ]
  },
  {
   "cell_type": "code",
   "execution_count": 250,
   "id": "18fca2a1",
   "metadata": {},
   "outputs": [],
   "source": [
    "# creates a partition using Inverse Linear Boundaries method described in Schouten's book\n",
    "def ilb_partition(k, alpha):\n",
    "    lhs = [-alpha*i**(-1) for i in range(1,k+2)]\n",
    "    #rhs = [alpha/i for i in range(1,k+2)]\n",
    "    rhs = [-x for x in reversed(lhs)]\n",
    "    return lhs, rhs\n",
    "\n",
    "left_part, right_part = ilb_partition(50,0.2)\n",
    "\n",
    "left_lambdas = [integrate.quad(meixner_meas, left_part[i], left_part[i+1])[0] for i in range(len(left_part)-1)]\n",
    "right_lambdas = [integrate.quad(meixner_meas, right_part[i], right_part[i+1])[0] for i in range(len(right_part)-1)]\n",
    "lambdas = left_lambdas + right_lambdas\n",
    "\n",
    "#lambdas = [integrate.quad(lambda x: meixner_meas(x), a_array[i],a_array[i+1] )[0] for i in range(len(a_array)-1)]"
   ]
  },
  {
   "cell_type": "code",
   "execution_count": 241,
   "id": "eebc07b3",
   "metadata": {},
   "outputs": [
    {
     "data": {
      "text/plain": [
       "51"
      ]
     },
     "execution_count": 241,
     "metadata": {},
     "output_type": "execute_result"
    }
   ],
   "source": [
    "len(left_part)"
   ]
  },
  {
   "cell_type": "code",
   "execution_count": 248,
   "id": "8506c403",
   "metadata": {},
   "outputs": [
    {
     "data": {
      "text/plain": [
       "[<matplotlib.lines.Line2D at 0x7f7c68880af0>]"
      ]
     },
     "execution_count": 248,
     "metadata": {},
     "output_type": "execute_result"
    },
    {
     "data": {
      "image/png": "[encoded data removed]",
      "text/plain": [
       "<Figure size 432x288 with 1 Axes>"
      ]
     },
     "metadata": {
      "needs_background": "light"
     },
     "output_type": "display_data"
    }
   ],
   "source": [
    "plt.plot(left_part[:-1], left_lambdas, \".\")\n",
    "plt.plot(right_part[:-1],right_lambdas,\".\")"
   ]
  },
  {
   "cell_type": "code",
   "execution_count": 255,
   "id": "e42862e3",
   "metadata": {},
   "outputs": [
    {
     "data": {
      "text/plain": [
       "[<matplotlib.lines.Line2D at 0x7f7c688cd2b0>]"
      ]
     },
     "execution_count": 255,
     "metadata": {},
     "output_type": "execute_result"
    },
    {
     "data": {
      "image/png": "[encoded data removed]",
      "text/plain": [
       "<Figure size 432x288 with 1 Axes>"
      ]
     },
     "metadata": {
      "needs_background": "light"
     },
     "output_type": "display_data"
    }
   ],
   "source": [
    "plt.plot(left_part[:-1], list(map(meixner_meas, left_part[:-1])), \".\")\n",
    "plt.plot(right_part[:-1], list(map(meixner_meas, right_part[:-1])), \".\")"
   ]
  },
  {
   "cell_type": "code",
   "execution_count": null,
   "id": "5d122363",
   "metadata": {},
   "outputs": [],
   "source": []
  }
 ],
 "metadata": {
  "kernelspec": {
   "display_name": "Python 3",
   "language": "python",
   "name": "python3"
  },
  "language_info": {
   "codemirror_mode": {
    "name": "ipython",
    "version": 3
   },
   "file_extension": ".py",
   "mimetype": "text/x-python",
   "name": "python",
   "nbconvert_exporter": "python",
   "pygments_lexer": "ipython3",
   "version": "3.8.8"
  }
 },
 "nbformat": 4,
 "nbformat_minor": 5
}
