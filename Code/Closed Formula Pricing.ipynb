{
 "cells": [
  {
   "cell_type": "code",
   "execution_count": 22,
   "id": "72389b20",
   "metadata": {},
   "outputs": [],
   "source": [
    "# Importing the needed libraries:\n",
    "import numpy as np\n",
    "from matplotlib import pyplot as plt\n",
    "import scipy.integrate as integrate\n",
    "import scipy.stats as stats\n",
    "import math\n",
    "import statistics\n",
    "\n",
    "# For debug purposes only. To be removed.\n",
    "import time"
   ]
  },
  {
   "cell_type": "code",
   "execution_count": 3,
   "id": "a4a26901",
   "metadata": {},
   "outputs": [],
   "source": [
    "# Meixner process parameters. No subordinator.\n",
    "a = 0.1231\n",
    "b = -0.5875\n",
    "d = 3.3588\n",
    "\n",
    "kappa = 0.5705\n",
    "eta = 1.5863\n",
    "lamb = 1.9592\n",
    "y0 = 1\n",
    "\n",
    "r = 1.9/100 \n",
    "q = 1.2/100\n",
    "\n",
    "S0 = 1124.47"
   ]
  },
  {
   "cell_type": "code",
   "execution_count": 4,
   "id": "3c38fd82",
   "metadata": {},
   "outputs": [],
   "source": [
    "def ch_price(t, K):  \n",
    "    coth = lambda x : np.cosh(x)/np.sinh(x) \n",
    "    \n",
    "    def phi_cir(u):\n",
    "        gamma = np.sqrt(complex(kappa**2, -2*lamb**2*u))\n",
    "        return np.exp(kappa**2*eta*t/(lamb**2))*np.exp(complex(0,2*y0*u)/(kappa + gamma*coth(gamma*t/2)))/((np.cosh(gamma*t/2) + kappa/gamma*np.sinh(gamma*t/2))**(2*kappa*eta/lamb**2))\n",
    "    \n",
    "    def psi_X(u):\n",
    "        return np.log((np.cos(b/2)/np.cosh(complex(a*u,-b)/2))**(2*d))\n",
    "    \n",
    "    def phi(u):\n",
    "        return np.exp(complex(0, u*((r-q)*t+np.log(S0))))*(phi_cir(complex(0,-psi_X(u))))/(phi_cir(complex(0,-psi_X(complex(0,-1)))))**complex(0,u)\n",
    "    \n",
    "    integrand1 = lambda u : np.real(np.exp(complex(0,-u)*np.log(K))*phi(complex(u,-1))/complex(0,u*phi(complex(0, -1))))\n",
    "    integrand2 = lambda u : np.real(np.exp(complex(0,-u)*np.log(K))*phi(u)/complex(0,u))\n",
    "    \n",
    "    pi1 = 1/2 + 1/np.pi*(integrate.quad(integrand1, 0, 1000)[0])\n",
    "    pi2 = 1/2 + 1/np.pi*(integrate.quad(integrand2, 0, 1000)[0])\n",
    "    \n",
    "    #return S0*pi1-K*np.exp(-r*t)*pi2\n",
    "    return S0*np.exp(-q*t)*pi1-K*np.exp(-r*t)*pi2"
   ]
  },
  {
   "cell_type": "code",
   "execution_count": 5,
   "id": "47a54100",
   "metadata": {},
   "outputs": [
    {
     "data": {
      "text/plain": [
       "68.37017845752177"
      ]
     },
     "execution_count": 5,
     "metadata": {},
     "output_type": "execute_result"
    }
   ],
   "source": [
    "ch_price(338/365, 1150)"
   ]
  },
  {
   "cell_type": "code",
   "execution_count": 6,
   "id": "02742e79",
   "metadata": {},
   "outputs": [],
   "source": [
    "K_list = [1025,1100,1125,1150,1175,1200,1225,1250,1275,1300,1325]\n",
    "prices_list = [146.50,96.20,81.7,68.30,56.6,46.1,36.9,29.3,22.5,17.2,12.8]"
   ]
  },
  {
   "cell_type": "code",
   "execution_count": 11,
   "id": "5285c02a",
   "metadata": {},
   "outputs": [],
   "source": [
    "cf_predictions = []\n",
    "for k in K_list:\n",
    "    cf_predictions.append(ch_price(338/365, k))\n",
    "the_reveal = list(zip(cf_predictions, prices_list))"
   ]
  },
  {
   "cell_type": "code",
   "execution_count": 12,
   "id": "51dd01bb",
   "metadata": {},
   "outputs": [
    {
     "data": {
      "text/plain": [
       "[(146.2682038274154, 146.5),\n",
       " (96.27854381660791, 96.2),\n",
       " (81.71991732622723, 81.7),\n",
       " (68.37017845752177, 68.3),\n",
       " (56.32144583474735, 56.6),\n",
       " (45.65767220010889, 46.1),\n",
       " (36.445043138549465, 36.9),\n",
       " (28.714744413693666, 29.3),\n",
       " (22.431730479365115, 22.5),\n",
       " (17.459460290552528, 17.2),\n",
       " (13.583692922767995, 12.8)]"
      ]
     },
     "execution_count": 12,
     "metadata": {},
     "output_type": "execute_result"
    }
   ],
   "source": [
    "the_reveal"
   ]
  },
  {
   "cell_type": "code",
   "execution_count": 13,
   "id": "4445b0b8",
   "metadata": {},
   "outputs": [],
   "source": [
    "arpe = 1/len(the_reveal)*sum([abs(market - model)/market for model, market in the_reveal])"
   ]
  },
  {
   "cell_type": "code",
   "execution_count": 14,
   "id": "2cbf0e37",
   "metadata": {},
   "outputs": [
    {
     "data": {
      "text/plain": [
       "1.180323208549623"
      ]
     },
     "execution_count": 14,
     "metadata": {},
     "output_type": "execute_result"
    }
   ],
   "source": [
    "arpe*100"
   ]
  },
  {
   "cell_type": "code",
   "execution_count": 30,
   "id": "ae8b7b9c",
   "metadata": {},
   "outputs": [],
   "source": [
    "def BS_eur_call(T, K):\n",
    "    sigma = 0.1479\n",
    "    D1 = (np.log(S0/K) + (r - q +sigma**2/2)*(T))/(sigma*np.sqrt(T))\n",
    "    D2 = D1 - sigma*np.sqrt(T)\n",
    "    call = np.exp(-q*T)*S0*stats.norm.cdf(D1) - K*np.exp(-r*T)*stats.norm.cdf(D2)\n",
    "    return call"
   ]
  },
  {
   "cell_type": "code",
   "execution_count": 31,
   "id": "e26782c6",
   "metadata": {},
   "outputs": [],
   "source": [
    "BS_predictions = []\n",
    "for k in K_list:\n",
    "    BS_predictions.append(BS_eur_call(338/365, k))\n",
    "BS_comp = list(zip(BS_predictions, prices_list))"
   ]
  },
  {
   "cell_type": "code",
   "execution_count": 32,
   "id": "b582e64e",
   "metadata": {},
   "outputs": [
    {
     "data": {
      "text/plain": [
       "[(126.54488928955664, 146.5),\n",
       " (79.0555629606738, 96.2),\n",
       " (66.28698763237117, 81.7),\n",
       " (55.044924877164476, 68.3),\n",
       " (45.27231353292541, 56.6),\n",
       " (36.88317132044091, 46.1),\n",
       " (29.769743081677916, 36.9),\n",
       " (23.809957392336457, 29.3),\n",
       " (18.874516807101827, 22.5),\n",
       " (14.833129707541787, 17.2),\n",
       " (11.559587345897597, 12.8)]"
      ]
     },
     "execution_count": 32,
     "metadata": {},
     "output_type": "execute_result"
    }
   ],
   "source": [
    "BS_comp"
   ]
  },
  {
   "cell_type": "code",
   "execution_count": 33,
   "id": "a843bf81",
   "metadata": {},
   "outputs": [],
   "source": [
    "BS_arpe = np.mean([abs(market - model)/market for model, market in BS_comp])"
   ]
  },
  {
   "cell_type": "code",
   "execution_count": 34,
   "id": "25331533",
   "metadata": {},
   "outputs": [
    {
     "data": {
      "text/plain": [
       "17.03159125366254"
      ]
     },
     "execution_count": 34,
     "metadata": {},
     "output_type": "execute_result"
    }
   ],
   "source": [
    "BS_arpe*100"
   ]
  },
  {
   "cell_type": "code",
   "execution_count": null,
   "id": "c49495d1",
   "metadata": {},
   "outputs": [],
   "source": []
  }
 ],
 "metadata": {
  "kernelspec": {
   "display_name": "Python 3",
   "language": "python",
   "name": "python3"
  },
  "language_info": {
   "codemirror_mode": {
    "name": "ipython",
    "version": 3
   },
   "file_extension": ".py",
   "mimetype": "text/x-python",
   "name": "python",
   "nbconvert_exporter": "python",
   "pygments_lexer": "ipython3",
   "version": "3.8.8"
  },
  "varInspector": {
   "cols": {
    "lenName": 16,
    "lenType": 16,
    "lenVar": 40
   },
   "kernels_config": {
    "python": {
     "delete_cmd_postfix": "",
     "delete_cmd_prefix": "del ",
     "library": "var_list.py",
     "varRefreshCmd": "print(var_dic_list())"
    },
    "r": {
     "delete_cmd_postfix": ") ",
     "delete_cmd_prefix": "rm(",
     "library": "var_list.r",
     "varRefreshCmd": "cat(var_dic_list()) "
    }
   },
   "types_to_exclude": [
    "module",
    "function",
    "builtin_function_or_method",
    "instance",
    "_Feature"
   ],
   "window_display": false
  }
 },
 "nbformat": 4,
 "nbformat_minor": 5
}
