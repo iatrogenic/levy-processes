{
 "cells": [
  {
   "cell_type": "code",
   "execution_count": 2,
   "id": "d4d607e3",
   "metadata": {},
   "outputs": [],
   "source": [
    "# Importing the needed libraries:\n",
    "import numpy as np\n",
    "from matplotlib import pyplot as plt\n",
    "import scipy.integrate as integrate\n",
    "import math\n",
    "import statistics\n",
    "\n",
    "# For debug purposes only. To be removed.\n",
    "import time"
   ]
  },
  {
   "cell_type": "code",
   "execution_count": 3,
   "id": "cbb47809",
   "metadata": {},
   "outputs": [],
   "source": [
    "# Meixner process parameters. No subordinator.\n",
    "a = 0.1231\n",
    "b = -0.5875\n",
    "d = 3.3588\n",
    "\n",
    "kappa = 0.5705\n",
    "eta = 1.5863\n",
    "lamb = 1.9592\n",
    "y0 = 1\n",
    "\n",
    "r = 1.9/100 \n",
    "q = 1.2/100\n",
    "\n",
    "S0 = 1124.47"
   ]
  },
  {
   "cell_type": "code",
   "execution_count": 4,
   "id": "091e303a",
   "metadata": {},
   "outputs": [],
   "source": [
    "def ch_price(t, K):  \n",
    "    coth = lambda x : np.cosh(x)/np.sinh(x) \n",
    "    \n",
    "    def phi_cir(u):\n",
    "        gamma = np.sqrt(complex(kappa**2, -2*lamb**2*u))\n",
    "        return np.exp(kappa**2*eta*t/(lamb**2))*np.exp(complex(0,2*y0*u)/(kappa + gamma*coth(gamma*t/2)))/((np.cosh(gamma*t/2) + kappa/gamma*np.sinh(gamma*t/2))**(2*kappa*eta/lamb**2))\n",
    "    \n",
    "    def psi_X(u):\n",
    "        return np.log((np.cos(b/2)/np.cosh(complex(a*u,-b)/2))**(2*d))\n",
    "    \n",
    "    def phi(u):\n",
    "        return np.exp(complex(0, u*((r-q)*t+np.log(S0))))*(phi_cir(complex(0,-psi_X(u))))/(phi_cir(complex(0,-psi_X(complex(0,-1)))))**complex(0,u)\n",
    "    \n",
    "    integrand1 = lambda u : np.real(np.exp(complex(0,-u)*np.log(K))*phi(complex(u,-1))/complex(0,u*phi(complex(0, -1))))\n",
    "    integrand2 = lambda u : np.real(np.exp(complex(0,-u)*np.log(K))*phi(u)/complex(0,u))\n",
    "    \n",
    "    pi1 = 1/2 + 1/np.pi*(integrate.quad(integrand1, 0, 1000)[0])\n",
    "    pi2 = 1/2 + 1/np.pi*(integrate.quad(integrand2, 0, 1000)[0])\n",
    "    \n",
    "    #return S0*pi1-K*np.exp(-r*t)*pi2\n",
    "    return S0*np.exp(-q*t)*pi1-K*np.exp(-r*t)*pi2"
   ]
  },
  {
   "cell_type": "code",
   "execution_count": 5,
   "id": "963adb82",
   "metadata": {},
   "outputs": [
    {
     "data": {
      "text/plain": [
       "68.20625728458583"
      ]
     },
     "execution_count": 5,
     "metadata": {},
     "output_type": "execute_result"
    }
   ],
   "source": [
    "ch_price(337/365, 1150)"
   ]
  },
  {
   "cell_type": "code",
   "execution_count": null,
   "id": "2162bc6a",
   "metadata": {},
   "outputs": [],
   "source": []
  }
 ],
 "metadata": {
  "kernelspec": {
   "display_name": "Python 3",
   "language": "python",
   "name": "python3"
  },
  "language_info": {
   "codemirror_mode": {
    "name": "ipython",
    "version": 3
   },
   "file_extension": ".py",
   "mimetype": "text/x-python",
   "name": "python",
   "nbconvert_exporter": "python",
   "pygments_lexer": "ipython3",
   "version": "3.8.8"
  }
 },
 "nbformat": 4,
 "nbformat_minor": 5
}
