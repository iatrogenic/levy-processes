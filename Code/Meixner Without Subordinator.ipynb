{
 "cells": [
  {
   "cell_type": "code",
   "execution_count": 3,
   "id": "905b159d",
   "metadata": {},
   "outputs": [],
   "source": [
    "# Importing the needed libraries:\n",
    "import numpy as np\n",
    "from matplotlib import pyplot as plt\n",
    "import scipy.integrate as integrate\n",
    "import math\n",
    "import statistics\n",
    "\n",
    "# For debug purposes only. To be removed.\n",
    "import time"
   ]
  },
  {
   "cell_type": "code",
   "execution_count": 22,
   "id": "195f1506",
   "metadata": {},
   "outputs": [],
   "source": [
    "# Meixner process parameters. No subordinator.\n",
    "a = 0.3977\n",
    "b = -1.4940\n",
    "d = 0.3462\n",
    "\n",
    "r = 1.9/100 \n",
    "q = 1.2/100\n",
    "\n",
    "S0 = 1124.47"
   ]
  },
  {
   "cell_type": "code",
   "execution_count": 5,
   "id": "133f9473",
   "metadata": {},
   "outputs": [],
   "source": [
    "# time_points is the list of points in which we simulate the process at\n",
    "def BM_path(time_points):\n",
    "    trajectory = [0]\n",
    "    for t in range(1, len(time_points)):\n",
    "        realization = trajectory[-1]+np.sqrt(time_points[t]-time_points[t-1])*np.random.normal()\n",
    "        trajectory.append(realization)\n",
    "    return dict(zip(time_points,trajectory))"
   ]
  },
  {
   "cell_type": "code",
   "execution_count": 6,
   "id": "a2bc01bc",
   "metadata": {},
   "outputs": [],
   "source": [
    "def poisson_path(intensity, time_points):\n",
    "    i = intensity*(time_points[1]-time_points[0])\n",
    "    trajectory = [0]\n",
    "    for t in time_points:\n",
    "        trajectory.append(trajectory[-1]+np.random.poisson(i))\n",
    "    return dict(zip(time_points, trajectory))"
   ]
  },
  {
   "cell_type": "code",
   "execution_count": 7,
   "id": "e44be53b",
   "metadata": {},
   "outputs": [],
   "source": [
    "# this is defined so that we do not repeatedly compute the integrals inside the meixner trajectory function\n",
    "def meix_optimization(k, alpha):\n",
    "    # density function of the meixner measure\n",
    "    def meixner_meas(x):\n",
    "        return d*(np.exp(b*x/a)/(x*np.sinh(np.pi*x/a)))\n",
    "    \n",
    "    # partitioning via inverse linear boundaries method\n",
    "    def ilb_partition(k, alpha):\n",
    "        lhs = [-alpha/i for i in range(1,k+2)]\n",
    "        rhs = [-x for x in reversed(lhs)]\n",
    "        return lhs, rhs\n",
    "        \n",
    "    # we could experiment with these values\n",
    "    left_part, right_part = ilb_partition(k,alpha)\n",
    "    partition = left_part + right_part\n",
    "    \n",
    "    # intensities for our Poisson processes\n",
    "    left_lambdas = [integrate.quad(meixner_meas, left_part[i], left_part[i+1])[0] for i in range(len(left_part)-1)]\n",
    "    right_lambdas = [integrate.quad(meixner_meas, right_part[i], right_part[i+1])[0] for i in range(len(right_part)-1)]\n",
    "    lambdas = left_lambdas + right_lambdas\n",
    "    \n",
    "    # will be used later on to compute the c's\n",
    "    x_sqrd = lambda x : x**2*meixner_meas(x) if x!=0 else 0\n",
    "\n",
    "    # epsilon must be > 0\n",
    "    def sigma_sqrd(epsilon):\n",
    "        return integrate.quad(x_sqrd, -epsilon, epsilon)[0]\n",
    "\n",
    "    # variance of the poisson processes\n",
    "    c_left = [-np.sqrt(integrate.quad(x_sqrd, left_part[i], left_part[i+1])[0]/left_lambdas[i]) for i in range(len(left_part)-1)]\n",
    "    c_right = [np.sqrt(integrate.quad(x_sqrd, right_part[i], right_part[i+1])[0]/right_lambdas[i]) for i in range(len(right_part)-1)]\n",
    "    c = c_left + c_right\n",
    "    \n",
    "    # drift\n",
    "    gamma_ = a*d*np.tan(b/2)-2*d*(integrate.quad(lambda x: np.sinh(b*x/a)/np.sinh(np.pi*x/a), 1, 20)[0])\n",
    "    \n",
    "    # used to incorporate the small jumps\n",
    "    sigma_ = np.sqrt(sigma_sqrd(right_part[0]))\n",
    "    \n",
    "    return partition, lambdas, c, gamma_, sigma_\n",
    "\n",
    "indicator = lambda cond : 1 if cond else 0"
   ]
  },
  {
   "cell_type": "code",
   "execution_count": 8,
   "id": "0e015a94",
   "metadata": {},
   "outputs": [],
   "source": [
    "partition, lambdas, c, gamma_, sigma_ = meix_optimization(100, 1)"
   ]
  },
  {
   "cell_type": "code",
   "execution_count": 9,
   "id": "d57e19b9",
   "metadata": {},
   "outputs": [],
   "source": [
    "def meixner_trajectory(time_points):\n",
    "    bm = BM_path(time_points)\n",
    "    N = [poisson_path(l, time_points) for l in lambdas]\n",
    "    \n",
    "    trajectory = []\n",
    "    for t in time_points:\n",
    "        s = [c[j]*( N[j][t] - lambdas[j]*t*indicator(np.abs(c[j]) < 1) ) for j in range(len(c))]\n",
    "        realization = gamma_*t + sigma_*bm[t] + sum(s)\n",
    "        #realization = sigma_*bm[t] + sum(s)\n",
    "        trajectory.append(realization)\n",
    "    return dict(zip(time_points,trajectory))"
   ]
  },
  {
   "cell_type": "code",
   "execution_count": 10,
   "id": "8bae2554",
   "metadata": {},
   "outputs": [
    {
     "data": {
      "text/plain": [
       "[<matplotlib.lines.Line2D at 0x7fa7e163fd90>]"
      ]
     },
     "execution_count": 10,
     "metadata": {},
     "output_type": "execute_result"
    },
    {
     "data": {
      "image/png": "[encoded data removed]",
      "text/plain": [
       "<Figure size 432x288 with 1 Axes>"
      ]
     },
     "metadata": {
      "needs_background": "light"
     },
     "output_type": "display_data"
    }
   ],
   "source": [
    "meix = meixner_trajectory([i/300 for i in range(300)])\n",
    "plt.step(list(meix.keys()), list(meix.values()))"
   ]
  },
  {
   "cell_type": "markdown",
   "id": "15c9c16b",
   "metadata": {},
   "source": [
    "# The $S_t$ process"
   ]
  },
  {
   "cell_type": "code",
   "execution_count": 25,
   "id": "ddeaf390",
   "metadata": {},
   "outputs": [],
   "source": [
    "def meixner_martingale(T):\n",
    "    m_new = r-q-2*d*(np.log(np.cos(b/2))-np.log(np.cos((a+b)/2)))\n",
    "    path = meixner_trajectory([T*i/200 for i in range(201)])\n",
    "    t = np.array(list(path.keys()))\n",
    "    x_t = np.array(list(path.values()))\n",
    "    return dict(zip(t,S0*np.exp(m_new*t+x_t)))"
   ]
  },
  {
   "cell_type": "code",
   "execution_count": 56,
   "id": "7405ef3b",
   "metadata": {},
   "outputs": [
    {
     "data": {
      "text/plain": [
       "[<matplotlib.lines.Line2D at 0x7fa7d1353460>]"
      ]
     },
     "execution_count": 56,
     "metadata": {},
     "output_type": "execute_result"
    },
    {
     "data": {
      "image/png": "[encoded data removed]",
      "text/plain": [
       "<Figure size 432x288 with 1 Axes>"
      ]
     },
     "metadata": {
      "needs_background": "light"
     },
     "output_type": "display_data"
    }
   ],
   "source": [
    "path = meixner_martingale(338/365)\n",
    "plt.plot(path.keys(), path.values())"
   ]
  },
  {
   "cell_type": "markdown",
   "id": "86021fe8",
   "metadata": {},
   "source": [
    "# Monte Carlo Simulations"
   ]
  },
  {
   "cell_type": "code",
   "execution_count": 27,
   "id": "6e411595",
   "metadata": {},
   "outputs": [],
   "source": [
    "def payoff_eur_call(ST, K):\n",
    "    return max(ST-K,0)"
   ]
  },
  {
   "cell_type": "code",
   "execution_count": 43,
   "id": "0382d2c5",
   "metadata": {},
   "outputs": [],
   "source": [
    "def mc_ec_meixner(T, K, sims):\n",
    "    t=[]\n",
    "    for i in range(sims):\n",
    "        final_value = list(meixner_martingale(T).values())[-1]\n",
    "        t.append(payoff_eur_call(final_value, K))\n",
    "    return np.exp(-r*T)*np.mean(t)"
   ]
  },
  {
   "cell_type": "code",
   "execution_count": 46,
   "id": "78f5a4fa",
   "metadata": {},
   "outputs": [
    {
     "name": "stdout",
     "output_type": "stream",
     "text": [
      "CPU times: user 1min 26s, sys: 178 ms, total: 1min 26s\n",
      "Wall time: 1min 26s\n"
     ]
    }
   ],
   "source": [
    "%%time\n",
    "resl1 = mc_ec_meixner(338/365, 1150, 1000)"
   ]
  },
  {
   "cell_type": "code",
   "execution_count": 47,
   "id": "c9e405ff",
   "metadata": {},
   "outputs": [
    {
     "data": {
      "text/plain": [
       "65.60671787016639"
      ]
     },
     "execution_count": 47,
     "metadata": {},
     "output_type": "execute_result"
    }
   ],
   "source": [
    "resl1"
   ]
  },
  {
   "cell_type": "code",
   "execution_count": null,
   "id": "4978580d",
   "metadata": {},
   "outputs": [],
   "source": [
    "%%time\n",
    "# this is slow. Run at your own peril\n",
    "\n",
    "K_list = [1025,1100,1125,1150,1175,1200,1225,1250,1275,1300,1325]\n",
    "prices_list = [146.50,96.20,81.7,68.30,56.6,46.1,36.9,29.3,22.5,17.2,12.8]\n",
    "\n",
    "mc_predictions = []\n",
    "for k in K_list:\n",
    "    mc_predictions.append(mc_ec_meixner(1124.47, 1.9/100, 1.2/100, 338/365, k, 1000))\n",
    "the_reveal = list(zip(mc_predictions, prices_list))"
   ]
  },
  {
   "cell_type": "code",
   "execution_count": null,
   "id": "f645a04c",
   "metadata": {},
   "outputs": [],
   "source": [
    "arpe = 1/len(the_reveal)*sum([abs(market - model)/market for model, market in the_reveal])"
   ]
  },
  {
   "cell_type": "code",
   "execution_count": null,
   "id": "7334109f",
   "metadata": {},
   "outputs": [],
   "source": [
    "print(arpe)"
   ]
  },
  {
   "cell_type": "code",
   "execution_count": null,
   "id": "5550d837",
   "metadata": {},
   "outputs": [],
   "source": [
    "the_reveal"
   ]
  },
  {
   "cell_type": "code",
   "execution_count": 48,
   "id": "229f796f",
   "metadata": {},
   "outputs": [],
   "source": [
    "def payoff_DIBC(trajectory, T, H, K):\n",
    "    vals = trajectory\n",
    "    min_realization = min(vals)\n",
    "    ST = vals[-1]\n",
    "    return payoff_eur_call(ST, K)*(min_realization <= H)"
   ]
  },
  {
   "cell_type": "code",
   "execution_count": 52,
   "id": "2a224759",
   "metadata": {},
   "outputs": [],
   "source": [
    "def mc_DIBC_meixner(T, H, K, sims):\n",
    "    payoffs = []\n",
    "    for i in range(sims):\n",
    "        path = meixner_martingale(T) \n",
    "        payoffs.append(payoff_DIBC(list(path.values()), T, H, K))\n",
    "    return np.exp(-r*T)*np.mean(payoffs)"
   ]
  },
  {
   "cell_type": "code",
   "execution_count": 53,
   "id": "3888bdde",
   "metadata": {},
   "outputs": [],
   "source": [
    "barrier_mc = mc_DIBC_meixner(1, 1124.47*0.95, 1124.47, 2000)"
   ]
  },
  {
   "cell_type": "code",
   "execution_count": 54,
   "id": "1c3d8029",
   "metadata": {},
   "outputs": [
    {
     "data": {
      "text/plain": [
       "8.935500150880378"
      ]
     },
     "execution_count": 54,
     "metadata": {},
     "output_type": "execute_result"
    }
   ],
   "source": [
    "barrier_mc"
   ]
  },
  {
   "cell_type": "code",
   "execution_count": null,
   "id": "63d2b073",
   "metadata": {},
   "outputs": [],
   "source": []
  }
 ],
 "metadata": {
  "kernelspec": {
   "display_name": "Python 3",
   "language": "python",
   "name": "python3"
  },
  "language_info": {
   "codemirror_mode": {
    "name": "ipython",
    "version": 3
   },
   "file_extension": ".py",
   "mimetype": "text/x-python",
   "name": "python",
   "nbconvert_exporter": "python",
   "pygments_lexer": "ipython3",
   "version": "3.8.8"
  }
 },
 "nbformat": 4,
 "nbformat_minor": 5
}
