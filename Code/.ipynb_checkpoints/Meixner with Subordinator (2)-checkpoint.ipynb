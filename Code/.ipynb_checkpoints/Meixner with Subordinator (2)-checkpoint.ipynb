{
 "cells": [
  {
   "cell_type": "code",
   "execution_count": 1,
   "id": "19fb6e35",
   "metadata": {},
   "outputs": [],
   "source": [
    "# Importing the needed libraries:\n",
    "import numpy as np\n",
    "from matplotlib import pyplot as plt\n",
    "import scipy.integrate as integrate\n",
    "import math\n",
    "import statistics\n",
    "\n",
    "# For debug purposes only. To be removed.\n",
    "import time"
   ]
  },
  {
   "cell_type": "code",
   "execution_count": 2,
   "id": "4304acbc",
   "metadata": {},
   "outputs": [],
   "source": [
    "# Meixner process parameters. With subordinator.\n",
    "a = 0.1231\n",
    "b = -0.5875\n",
    "d = 3.3588\n",
    "\n",
    "kappa = 0.5705\n",
    "eta = 1.5863\n",
    "lamb = 1.9592\n",
    "y0 = 1\n",
    "\n",
    "r = 1.9/100 \n",
    "q = 1.2/100\n",
    "\n",
    "S0 = 1124.47"
   ]
  },
  {
   "cell_type": "code",
   "execution_count": 3,
   "id": "e1558749",
   "metadata": {},
   "outputs": [],
   "source": [
    "# time_points is the list of points in which we simulate the process at\n",
    "def BM_path(time_points):\n",
    "    trajectory = [0]\n",
    "    for t in range(1, len(time_points)):\n",
    "        realization = trajectory[-1]+np.sqrt(time_points[t]-time_points[t-1])*np.random.normal()\n",
    "        trajectory.append(realization)\n",
    "    return dict(zip(time_points,trajectory))"
   ]
  },
  {
   "cell_type": "code",
   "execution_count": 4,
   "id": "8c79f0e3",
   "metadata": {},
   "outputs": [],
   "source": [
    "def poisson_path(intensity, time_points):\n",
    "    i = intensity*(time_points[1]-time_points[0])\n",
    "    trajectory = [0]\n",
    "    for t in time_points:\n",
    "        trajectory.append(trajectory[-1]+np.random.poisson(i))\n",
    "    return dict(zip(time_points, trajectory))"
   ]
  },
  {
   "cell_type": "code",
   "execution_count": 5,
   "id": "344974e2",
   "metadata": {},
   "outputs": [],
   "source": [
    "# this is defined so that we do not repeatedly compute the integrals inside the meixner trajectory function\n",
    "def meix_optimization(k, alpha):\n",
    "    # density function of the meixner measure\n",
    "    def meixner_meas(x):\n",
    "        return d*(np.exp(b*x/a)/(x*np.sinh(np.pi*x/a)))\n",
    "    \n",
    "    # partitioning via inverse linear boundaries method\n",
    "    def ilb_partition(k, alpha):\n",
    "        lhs = [-alpha/i for i in range(1,k+2)]\n",
    "        rhs = [-x for x in reversed(lhs)]\n",
    "        return lhs, rhs\n",
    "        \n",
    "    # we could experiment with these values\n",
    "    left_part, right_part = ilb_partition(k,alpha)\n",
    "    partition = left_part + right_part\n",
    "    \n",
    "    # intensities for our Poisson processes\n",
    "    left_lambdas = [integrate.quad(meixner_meas, left_part[i], left_part[i+1])[0] for i in range(len(left_part)-1)]\n",
    "    right_lambdas = [integrate.quad(meixner_meas, right_part[i], right_part[i+1])[0] for i in range(len(right_part)-1)]\n",
    "    lambdas = left_lambdas + right_lambdas\n",
    "    \n",
    "    # will be used later on to compute the c's\n",
    "    x_sqrd = lambda x : x**2*meixner_meas(x) if x!=0 else 0\n",
    "\n",
    "    # epsilon must be > 0\n",
    "    def sigma_sqrd(epsilon):\n",
    "        return integrate.quad(x_sqrd, -epsilon, epsilon)[0]\n",
    "\n",
    "    # variance of the poisson processes\n",
    "    c_left = [-np.sqrt(integrate.quad(x_sqrd, left_part[i], left_part[i+1])[0]/left_lambdas[i]) for i in range(len(left_part)-1)]\n",
    "    c_right = [np.sqrt(integrate.quad(x_sqrd, right_part[i], right_part[i+1])[0]/right_lambdas[i]) for i in range(len(right_part)-1)]\n",
    "    c = c_left + c_right\n",
    "    \n",
    "    # drift\n",
    "    gamma_ = a*d*np.tan(b/2)-2*d*(integrate.quad(lambda x: np.sinh(b*x/a)/np.sinh(np.pi*x/a), 1, 20)[0])\n",
    "    \n",
    "    # used to incorporate the small jumps\n",
    "    sigma_ = np.sqrt(sigma_sqrd(right_part[0]))\n",
    "    \n",
    "    return partition, lambdas, c, gamma_, sigma_\n",
    "\n",
    "indicator = lambda cond : 1 if cond else 0"
   ]
  },
  {
   "cell_type": "code",
   "execution_count": 6,
   "id": "065fa13b",
   "metadata": {},
   "outputs": [],
   "source": [
    "partition, lambdas, c, gamma_, sigma_ = meix_optimization(100, 1)"
   ]
  },
  {
   "cell_type": "code",
   "execution_count": 7,
   "id": "f8ed54c1",
   "metadata": {},
   "outputs": [
    {
     "data": {
      "text/plain": [
       "[<matplotlib.lines.Line2D at 0x7fc780047b80>]"
      ]
     },
     "execution_count": 7,
     "metadata": {},
     "output_type": "execute_result"
    },
    {
     "data": {
      "image/png": "[encoded data removed]",
      "text/plain": [
       "<Figure size 432x288 with 1 Axes>"
      ]
     },
     "metadata": {
      "needs_background": "light"
     },
     "output_type": "display_data"
    }
   ],
   "source": [
    "plt.plot(c,lambdas,\".\")"
   ]
  },
  {
   "cell_type": "code",
   "execution_count": 8,
   "id": "3d574298",
   "metadata": {},
   "outputs": [],
   "source": [
    "def meixner_trajectory(time_points):\n",
    "    # the actual trajectory of the meixner process starts here\n",
    "    bm = BM_path(time_points)\n",
    "    N = [poisson_path(l, time_points) for l in lambdas]\n",
    "    \n",
    "    trajectory = []\n",
    "    for t in time_points:\n",
    "        s = [c[j]*( N[j][t] - lambdas[j]*t*indicator(np.abs(c[j]) < 1) ) for j in range(len(c))]\n",
    "        #s = [c[j]*( N[j][t] - lambdas[j]*t) for j in range(200)]\n",
    "        realization = gamma_*t + sigma_*bm[t] + sum(s)\n",
    "        #realization = sigma_*bm[t] + sum(s)\n",
    "        trajectory.append(realization)\n",
    "    return dict(zip(time_points,trajectory))"
   ]
  },
  {
   "cell_type": "code",
   "execution_count": 9,
   "id": "168e64dc",
   "metadata": {},
   "outputs": [],
   "source": [
    "def cir(T, time_points):\n",
    "    increment = T/time_points\n",
    "    y = np.zeros(time_points)\n",
    "    y[0] = y0\n",
    "    for i in range(time_points-1):\n",
    "        y[i+1] = max(y[i] + kappa * (eta - y[i]) * increment + lamb * math.sqrt(y[i])*math.sqrt(increment) * np.random.normal(0,1),0)\n",
    "    return y"
   ]
  },
  {
   "cell_type": "code",
   "execution_count": 10,
   "id": "2528ba9b",
   "metadata": {},
   "outputs": [],
   "source": [
    "def int_cir(T, time_points):\n",
    "    Y = np.zeros(time_points+1)\n",
    "    Y[0] = y0\n",
    "    fixed_cir = cir(T, time_points)\n",
    "    for i in range(len(cir(T, time_points))):\n",
    "        Y[i+1] = Y[i] + fixed_cir[i]\n",
    "    return dict(zip([T/time_points * i for i in range(time_points+1)], Y/time_points))"
   ]
  },
  {
   "cell_type": "code",
   "execution_count": 11,
   "id": "f904606d",
   "metadata": {},
   "outputs": [],
   "source": [
    "def subordinated_meixner(T, time_points):\n",
    "    path = int_cir(T, time_points)\n",
    "    det_time = list(path.keys())\n",
    "    t_points = list(path.values())\n",
    "    sub_meix = list(meixner_trajectory(t_points).values())\n",
    "    return dict(zip(det_time, sub_meix))"
   ]
  },
  {
   "cell_type": "code",
   "execution_count": 12,
   "id": "24cf9cd3",
   "metadata": {},
   "outputs": [],
   "source": [
    "def subordinated_meixner2(T, time_points):\n",
    "    path = int_cir(T, time_points)\n",
    "    t_points = list(path.values())\n",
    "    sub_meix = list(meixner_trajectory(t_points).values())\n",
    "    return dict(zip(t_points, sub_meix))"
   ]
  },
  {
   "cell_type": "code",
   "execution_count": 13,
   "id": "60b465b3",
   "metadata": {},
   "outputs": [
    {
     "data": {
      "text/plain": [
       "[<matplotlib.lines.Line2D at 0x7fc7a06331f0>]"
      ]
     },
     "execution_count": 13,
     "metadata": {},
     "output_type": "execute_result"
    },
    {
     "data": {
      "image/png": "[encoded data removed]",
      "text/plain": [
       "<Figure size 432x288 with 1 Axes>"
      ]
     },
     "metadata": {
      "needs_background": "light"
     },
     "output_type": "display_data"
    }
   ],
   "source": [
    "s = subordinated_meixner(1, 360)\n",
    "plt.plot(list(s.keys()), list(s.values()))"
   ]
  },
  {
   "cell_type": "code",
   "execution_count": 14,
   "id": "787fb7fe",
   "metadata": {},
   "outputs": [],
   "source": [
    "def psi_X(t, u):\n",
    "    return np.log((np.cos(b/2)/np.cosh(complex(a*u,-b)/2))**(2*d))"
   ]
  },
  {
   "cell_type": "code",
   "execution_count": 15,
   "id": "1df79f3e",
   "metadata": {},
   "outputs": [],
   "source": [
    "def sub_e(t,u):\n",
    "    coth = lambda x : np.cosh(x)/np.sinh(x) if x != 0 else 0\n",
    "    def phi_cir(t, u):\n",
    "        gamma = np.sqrt(complex(kappa**2, -2*lamb**2*u))\n",
    "        return np.exp(kappa**2*eta*t/(lamb**2))*np.exp(complex(0,2*y0*u)/(kappa + gamma*coth(gamma*t/2)))/((np.cosh(gamma*t/2) + kappa/gamma*np.sinh(gamma*t/2))**(2*kappa*eta/lamb**2))\n",
    "\n",
    "    def psi_X(t, u):\n",
    "        return np.log((np.cos(b/2)/np.cosh(complex(a*u,-b)/2))**(2*d))\n",
    "\n",
    "    def phi(t, u):\n",
    "        return np.exp(complex(0, u*((r-q)*t)))*(phi_cir(t, complex(0,-psi_X(t, u))))/(phi_cir(t, complex(0,-psi_X(t, complex(0,-1)))))**complex(0,u)\n",
    "\n",
    "    exp_value = phi(t, complex(0,-1)*psi_X(t,u))\n",
    "    return np.real(exp_value)"
   ]
  },
  {
   "cell_type": "code",
   "execution_count": 16,
   "id": "baa3773c",
   "metadata": {},
   "outputs": [],
   "source": [
    "def sub2_e(t,u):\n",
    "    def psi_X(t, u):\n",
    "        return np.log((np.cos(b/2)/np.cosh(complex(a*u,-b)/2))**(2*d))\n",
    "    def A(t,u):\n",
    "        gamma = np.sqrt(complex(kappa**2, -2*lamb**2*u))\n",
    "        return np.exp(kappa**2 * eta * t/lamb**2) / (np.cosh(gamma*t/2) + (kappa/gamma) * np.sinh(gamma*t/2))**(2*kappa*eta/lamb**2)\n",
    "    coth = lambda x : np.cosh(x)/np.sinh(x) if x != 0 else np.inf\n",
    "    def B(t,u):\n",
    "        gamma = np.sqrt(complex(kappa**2, -2*lamb**2*u))\n",
    "        return 2*complex(0,1)*u/(kappa + gamma * coth(gamma*t/2))\n",
    "    def ch_func(t,u):\n",
    "        return A(t,u)*np.exp(B(t,u) * y0)\n",
    "    exp_value2 = ch_func(t, complex(0,-1) * psi_X(t,u))\n",
    "    return np.real(exp_value2)"
   ]
  },
  {
   "cell_type": "code",
   "execution_count": 17,
   "id": "43588c0c",
   "metadata": {},
   "outputs": [
    {
     "data": {
      "text/plain": [
       "0.9773331181345785"
      ]
     },
     "execution_count": 17,
     "metadata": {},
     "output_type": "execute_result"
    }
   ],
   "source": [
    "sub2_e(0.2,complex(0,-1))"
   ]
  },
  {
   "cell_type": "code",
   "execution_count": 18,
   "id": "a52853d5",
   "metadata": {},
   "outputs": [],
   "source": [
    "def meixner_sub_martingale(T, time_points):\n",
    "    path_meixner = subordinated_meixner2(T, time_points)\n",
    "    yt = np.array(list(path_meixner.keys()))\n",
    "    x_yt = np.array(list(path_meixner.values()))\n",
    "    det_time = np.array([i/len(x_yt) * T for i in range(len(x_yt))])\n",
    "    correction = []\n",
    "    for i in range(len(x_yt)):\n",
    "        correction.append(np.exp((r-q)*det_time[i])/sub2_e(det_time[i],complex(0,-1)))\n",
    "    risk_neutral = S0*np.array(correction) * np.exp(x_yt)\n",
    "    return dict(zip(det_time, list(risk_neutral)))"
   ]
  },
  {
   "cell_type": "code",
   "execution_count": 21,
   "id": "60bdd996",
   "metadata": {},
   "outputs": [
    {
     "name": "stderr",
     "output_type": "stream",
     "text": [
      "<ipython-input-16-4aa1db920f95>:10: RuntimeWarning: invalid value encountered in cdouble_scalars\n",
      "  return 2*complex(0,1)*u/(kappa + gamma * coth(gamma*t/2))\n"
     ]
    },
    {
     "data": {
      "text/plain": [
       "[<matplotlib.lines.Line2D at 0x7fc7a058e370>]"
      ]
     },
     "execution_count": 21,
     "metadata": {},
     "output_type": "execute_result"
    },
    {
     "data": {
      "image/png": "[encoded data removed]",
      "text/plain": [
       "<Figure size 432x288 with 1 Axes>"
      ]
     },
     "metadata": {
      "needs_background": "light"
     },
     "output_type": "display_data"
    }
   ],
   "source": [
    "sub_path = meixner_sub_martingale(337/365, 300)\n",
    "plt.plot(list(sub_path.keys()), list(sub_path.values()))"
   ]
  },
  {
   "cell_type": "markdown",
   "id": "aaf1b2f2",
   "metadata": {},
   "source": [
    "# Monte Carlo simulations with Subordinator"
   ]
  },
  {
   "cell_type": "code",
   "execution_count": 22,
   "id": "5106b865",
   "metadata": {},
   "outputs": [],
   "source": [
    "def payoff_eur_call(ST, K):\n",
    "    return max(ST-K,0)"
   ]
  },
  {
   "cell_type": "code",
   "execution_count": 23,
   "id": "8779b563",
   "metadata": {},
   "outputs": [],
   "source": [
    "def mc_ec_sub_meixner(T, K, sims):\n",
    "    t=[]\n",
    "    for i in range(sims):\n",
    "        final_value = list(meixner_sub_martingale(T,250).values())[-1]\n",
    "        t.append(payoff_eur_call(final_value, K))\n",
    "    return np.exp(-r*T)*np.mean(t)"
   ]
  },
  {
   "cell_type": "code",
   "execution_count": null,
   "id": "79d2d31f",
   "metadata": {},
   "outputs": [
    {
     "name": "stderr",
     "output_type": "stream",
     "text": [
      "<ipython-input-16-4aa1db920f95>:10: RuntimeWarning: invalid value encountered in cdouble_scalars\n",
      "  return 2*complex(0,1)*u/(kappa + gamma * coth(gamma*t/2))\n"
     ]
    }
   ],
   "source": [
    "%%time\n",
    "resl = mc_ec_sub_meixner(338/365, 1150, 1000)"
   ]
  },
  {
   "cell_type": "code",
   "execution_count": 25,
   "id": "ed28c7cf",
   "metadata": {},
   "outputs": [
    {
     "data": {
      "text/plain": [
       "63.80600867058539"
      ]
     },
     "execution_count": 25,
     "metadata": {},
     "output_type": "execute_result"
    }
   ],
   "source": [
    "resl"
   ]
  },
  {
   "cell_type": "code",
   "execution_count": 122,
   "id": "071f6f97",
   "metadata": {},
   "outputs": [],
   "source": [
    "K_list = [1025,1100,1125,1150,1175,1200,1225,1250,1275,1300,1325]\n",
    "prices_list = [146.50,96.20,81.7,68.30,56.6,46.1,36.9,29.3,22.5,17.2,12.8]\n",
    "\n",
    "mc_predictions = []\n",
    "for k in K_list:\n",
    "    mc_predictions.append(mc_ec_sub_meixner(338/365, k, 1000))\n",
    "the_reveal = list(zip(mc_predictions, prices_list))"
   ]
  },
  {
   "cell_type": "code",
   "execution_count": 123,
   "id": "b6c9ee38",
   "metadata": {},
   "outputs": [],
   "source": [
    "arpe = 1/len(the_reveal)*sum([abs(market - model)/market for model, market in the_reveal])"
   ]
  },
  {
   "cell_type": "code",
   "execution_count": 124,
   "id": "9834bee9",
   "metadata": {},
   "outputs": [
    {
     "name": "stdout",
     "output_type": "stream",
     "text": [
      "0.33339008137978043\n"
     ]
    }
   ],
   "source": [
    "print(arpe)"
   ]
  },
  {
   "cell_type": "code",
   "execution_count": 125,
   "id": "1ee8fc9f",
   "metadata": {},
   "outputs": [
    {
     "data": {
      "text/plain": [
       "[(142.92755889150703, 146.5),\n",
       " (104.37765259676794, 96.2),\n",
       " (78.14542215509287, 81.7),\n",
       " (81.39350461541133, 68.3),\n",
       " (60.57249253703247, 56.6),\n",
       " (57.26412799817206, 46.1),\n",
       " (47.09625113052866, 36.9),\n",
       " (43.70664319040734, 29.3),\n",
       " (37.089064245783476, 22.5),\n",
       " (22.98976338063645, 17.2),\n",
       " (28.893383038886665, 12.8)]"
      ]
     },
     "execution_count": 125,
     "metadata": {},
     "output_type": "execute_result"
    }
   ],
   "source": [
    "the_reveal"
   ]
  },
  {
   "cell_type": "code",
   "execution_count": 57,
   "id": "645e16e0",
   "metadata": {},
   "outputs": [
    {
     "data": {
      "text/plain": [
       "array([1661.33356348, 1140.55205704, 1143.51635383, 1140.90927931,\n",
       "       1141.06221684, 1143.22251801, 1139.0808088 , 1139.88527099,\n",
       "       1131.19081001, 1131.55195733, 1132.24486413, 1130.6379597 ,\n",
       "       1117.50862726, 1110.67327845, 1107.90845354, 1106.0244127 ,\n",
       "       1106.68714031, 1107.96958586, 1110.5950208 , 1110.03751589,\n",
       "       1107.92010685, 1104.59750152, 1106.75949654, 1104.16272026,\n",
       "       1104.61378444, 1103.72201691, 1107.73396535, 1110.63113572,\n",
       "       1110.60897285, 1142.86059201, 1145.74786093, 1149.7566656 ,\n",
       "       1147.47132463, 1151.62713741, 1168.38177179, 1162.13383312,\n",
       "       1154.5214354 , 1149.55046317, 1152.70714798, 1154.20664951,\n",
       "       1152.69487306, 1142.06210045, 1142.85317956, 1135.48670316,\n",
       "       1134.92134798, 1137.11595183, 1134.11574917, 1136.8769791 ,\n",
       "       1137.09482178, 1137.60379185, 1136.28774293, 1132.43311947,\n",
       "       1119.78495259, 1118.72089179, 1118.49171785, 1114.56025027,\n",
       "       1118.03834808, 1112.48522063, 1120.34751922, 1093.20994198,\n",
       "       1079.63197847, 1077.25879981, 1082.60433953, 1115.97565294,\n",
       "       1122.67992668, 1117.24725403, 1120.94379256, 1123.26832345,\n",
       "       1135.26102975, 1135.28198281, 1135.7158974 , 1138.76036431,\n",
       "       1141.2738943 , 1172.53250415, 1168.32797179, 1176.24910346,\n",
       "       1174.6059804 , 1170.50552696, 1191.4986249 , 1189.36024051,\n",
       "       1188.09371517, 1198.73894429, 1205.52610629, 1212.89775804,\n",
       "       1218.70270606, 1220.80943311, 1224.17065766, 1226.35805829,\n",
       "       1231.66834018, 1225.61277323, 1200.14708722, 1197.76751163,\n",
       "       1218.34698616, 1216.36555216, 1223.89982651, 1221.11920706,\n",
       "       1212.14193648, 1204.88001621, 1193.27008186, 1191.72908654,\n",
       "       1184.36497961, 1196.19281233, 1202.13077919, 1197.27187434,\n",
       "       1200.97604359, 1203.90337299, 1222.54915782, 1217.89248669,\n",
       "       1220.89503092, 1221.57033945, 1227.84624472, 1228.87276184,\n",
       "       1223.61552399, 1244.26461867, 1249.68086112, 1252.87571559,\n",
       "       1256.33532032, 1259.2517235 , 1266.23914227, 1275.9631249 ,\n",
       "       1274.50816971, 1277.41635079, 1279.53722449, 1285.13184061,\n",
       "       1286.12100507, 1297.71081336, 1299.11101899, 1298.13408481,\n",
       "       1296.89332869, 1300.13488243, 1291.88975833, 1288.55474909,\n",
       "       1293.11757872, 1279.79019974, 1274.73191498, 1291.423144  ,\n",
       "       1283.60185654, 1291.17296778, 1289.13965558, 1287.91887317,\n",
       "       1283.17124324, 1286.56686457, 1285.36858497, 1280.24035269,\n",
       "       1283.4085226 , 1277.56053902, 1270.56499379, 1270.36566592,\n",
       "       1266.39278617, 1263.80100081, 1263.37377244, 1258.04518218,\n",
       "       1261.5778374 , 1272.18637519, 1275.73639921, 1272.56619997,\n",
       "       1270.41345764, 1276.57318788, 1273.76274885, 1270.77835153,\n",
       "       1266.22554514, 1262.99101768, 1254.41256823, 1253.11040648,\n",
       "       1256.13979162, 1136.55388337, 1135.24794564, 1132.74837814,\n",
       "       1111.76833526, 1107.86309891, 1109.86905172, 1107.22275044,\n",
       "       1104.65108944, 1107.96950838,  941.49076602,  943.01850103,\n",
       "        940.82967975,  939.90769981,  941.26585264,  947.68052898,\n",
       "        947.97780256,  945.64500202,  946.89167342,  955.96504805,\n",
       "        961.37320307,  953.9613514 ,  951.98874051,  948.39119766,\n",
       "        927.92903305,  925.30488302,  926.43301077,  927.935852  ,\n",
       "        922.01585166,  920.04684835,  916.03050049,  918.13986136,\n",
       "        921.3600595 ,  922.84363389,  924.34917926,  922.66286706,\n",
       "        921.94346607,  923.64217001,  923.70824324,  921.77346415,\n",
       "        926.55437093,  901.05598002,  899.31152022,  892.36240579,\n",
       "        889.0288302 ,  895.01527593,  901.5111593 ,  903.80050332,\n",
       "        907.39269183,  905.76349827,  904.80515329,  908.654415  ,\n",
       "        913.31913717,  910.40043934,  915.32393149,  900.54852793,\n",
       "        899.30308465,  903.40380327,  909.86985266,  915.08472522,\n",
       "        894.36216375,  896.23668182,  894.29825457,  884.83423802,\n",
       "        884.13056333,  880.16694172,  881.64350328,  883.39347029,\n",
       "        882.14943638,  881.32103345,  884.85489759,  881.39239974,\n",
       "        881.69886121,  876.40884594,  879.72671617,  886.75409223,\n",
       "        929.9176636 ,  955.43470338,  947.04235201,  940.62824167,\n",
       "        940.65855427,  947.76669194,  952.18647149,  952.47477385,\n",
       "        965.40076978,  970.00111505,  958.41786194,  961.70928092,\n",
       "        961.67900564,  963.11703461,  964.64633323,  968.02982722,\n",
       "        967.68563769,  971.40877562,  963.4124498 ,  970.39267113,\n",
       "        963.59813795,  966.69506065,  966.97363167,  973.15801987,\n",
       "        981.15346243,  937.30567505,  943.8452737 ,  948.6498568 ,\n",
       "        946.17800399,  950.89058932,  946.95407849,  955.59543776,\n",
       "        953.23933254,  935.17451363,  944.09980947,  936.86404234,\n",
       "        930.93769722,  914.44163201,  914.49024974,  921.71631307,\n",
       "        917.56614012,  905.96022844,  904.93450076,  915.45305478,\n",
       "        919.98735754,  926.6358327 ,  960.88570429,  963.38891303,\n",
       "        964.41188785,  957.4483438 ,  949.07552257,  963.25496632,\n",
       "        968.97593847,  965.52014423,  968.73017849,  965.23613155,\n",
       "        964.57966907,  955.09564556,  958.31749819,  955.17512411,\n",
       "        968.79104662])"
      ]
     },
     "execution_count": 57,
     "metadata": {},
     "output_type": "execute_result"
    }
   ],
   "source": [
    "path = subordinated_meixner(337/365, 300)\n",
    "t = np.array(list(path.keys()))\n",
    "x_yt = np.array(list(path.values()))\n",
    "correction = []\n",
    "for cir_times in t:\n",
    "    correction.append(np.exp((r-q)*cir_times)/sub2_e(cir_times,complex(0,-1)))\n",
    "S0 * np.array(correction) * np.exp(x_yt)"
   ]
  },
  {
   "cell_type": "code",
   "execution_count": 55,
   "id": "95fd618e",
   "metadata": {},
   "outputs": [
    {
     "data": {
      "text/plain": [
       "[1.4774978219865171,\n",
       " 1.00036447124121,\n",
       " 1.0007294263410784,\n",
       " 1.0010948637338026,\n",
       " 1.001460781858303,\n",
       " 1.001827179158228,\n",
       " 1.0021940540819574,\n",
       " 1.0025614050826066,\n",
       " 1.0029292306180302,\n",
       " 1.0032975291508268,\n",
       " 1.003666299148339,\n",
       " 1.0040355390826614,\n",
       " 1.0044052474306413,\n",
       " 1.0047754226738812,\n",
       " 1.0051460632987428,\n",
       " 1.005517167796351,\n",
       " 1.0058887346625944,\n",
       " 1.0062607623981294,\n",
       " 1.006633249508382,\n",
       " 1.0070061945035509,\n",
       " 1.0073795958986085,\n",
       " 1.0077534522133054,\n",
       " 1.0081277619721694,\n",
       " 1.008502523704509,\n",
       " 1.0088777359444157,\n",
       " 1.0092533972307651,\n",
       " 1.0096295061072178,\n",
       " 1.0100060611222215,\n",
       " 1.0103830608290125,\n",
       " 1.0107605037856162,\n",
       " 1.0111383885548484,\n",
       " 1.0115167137043164,\n",
       " 1.01189547780642,\n",
       " 1.0122746794383524,\n",
       " 1.0126543171820994,\n",
       " 1.0130343896244425,\n",
       " 1.013414895356955,\n",
       " 1.0137958329760077,\n",
       " 1.0141772010827643,\n",
       " 1.0145589982831849,\n",
       " 1.0149412231880233,\n",
       " 1.0153238744128283,\n",
       " 1.015706950577943,\n",
       " 1.0160904503085049,\n",
       " 1.016474372234444,\n",
       " 1.0168587149904833,\n",
       " 1.017243477216138,\n",
       " 1.017628657555714,\n",
       " 1.0180142546583093,\n",
       " 1.0184002671778078,\n",
       " 1.0187866937728838,\n",
       " 1.0191735331069973,\n",
       " 1.0195607838483935,\n",
       " 1.0199484446701017,\n",
       " 1.020336514249934,\n",
       " 1.0207249912704814,\n",
       " 1.0211138744191144,\n",
       " 1.0215031623879802,\n",
       " 1.0218928538740017,\n",
       " 1.022282947578873,\n",
       " 1.0226734422090589,\n",
       " 1.0230643364757925,\n",
       " 1.0234556290950734,\n",
       " 1.0238473187876627,\n",
       " 1.0242394042790832,\n",
       " 1.0246318842996152,\n",
       " 1.0250247575842946,\n",
       " 1.025418022872909,\n",
       " 1.0258116789099938,\n",
       " 1.0262057244448326,\n",
       " 1.0266001582314503,\n",
       " 1.0269949790286126,\n",
       " 1.0273901855998193,\n",
       " 1.0277857767133047,\n",
       " 1.0281817511420321,\n",
       " 1.0285781076636886,\n",
       " 1.0289748450606848,\n",
       " 1.0293719621201474,\n",
       " 1.0297694576339185,\n",
       " 1.030167330398549,\n",
       " 1.0305655792152955,\n",
       " 1.0309642028901165,\n",
       " 1.0313632002336675,\n",
       " 1.0317625700612971,\n",
       " 1.0321623111930414,\n",
       " 1.0325624224536205,\n",
       " 1.0329629026724347,\n",
       " 1.0333637506835571,\n",
       " 1.033764965325731,\n",
       " 1.0341665454423647,\n",
       " 1.0345684898815255,\n",
       " 1.0349707974959352,\n",
       " 1.035373467142967,\n",
       " 1.0357764976846349,\n",
       " 1.0361798879875947,\n",
       " 1.0365836369231336,\n",
       " 1.0369877433671684,\n",
       " 1.037392206200238,\n",
       " 1.0377970243074974,\n",
       " 1.0382021965787132,\n",
       " 1.0386077219082575,\n",
       " 1.0390135991951013,\n",
       " 1.0394198273428095,\n",
       " 1.0398264052595343,\n",
       " 1.0402333318580104,\n",
       " 1.0406406060555446,\n",
       " 1.0410482267740178,\n",
       " 1.0414561929398678,\n",
       " 1.0418645034840932,\n",
       " 1.04227315734224,\n",
       " 1.0426821534543982,\n",
       " 1.043091490765195,\n",
       " 1.0435011682237865,\n",
       " 1.0439111847838534,\n",
       " 1.0443215394035914,\n",
       " 1.044732231045707,\n",
       " 1.045143258677409,\n",
       " 1.0455546212704014,\n",
       " 1.0459663178008776,\n",
       " 1.0463783472495116,\n",
       " 1.0467907086014514,\n",
       " 1.0472034008463134,\n",
       " 1.047616422978172,\n",
       " 1.048029773995555,\n",
       " 1.0484434529014333,\n",
       " 1.048857458703217,\n",
       " 1.0492717904127438,\n",
       " 1.0496864470462748,\n",
       " 1.050101427624486,\n",
       " 1.050516731172457,\n",
       " 1.050932356719669,\n",
       " 1.0513483032999926,\n",
       " 1.0517645699516813,\n",
       " 1.0521811557173633,\n",
       " 1.0525980596440332,\n",
       " 1.0530152807830464,\n",
       " 1.053432818190106,\n",
       " 1.0538506709252586,\n",
       " 1.0542688380528853,\n",
       " 1.0546873186416912,\n",
       " 1.0551061117647,\n",
       " 1.0555252164992446,\n",
       " 1.0559446319269563,\n",
       " 1.05636435713376,\n",
       " 1.0567843912098625,\n",
       " 1.057204733249746,\n",
       " 1.0576253823521593,\n",
       " 1.0580463376201052,\n",
       " 1.0584675981608385,\n",
       " 1.0588891630858512,\n",
       " 1.059311031510866,\n",
       " 1.059733202555829,\n",
       " 1.0601556753448966,\n",
       " 1.0605784490064305,\n",
       " 1.0610015226729863,\n",
       " 1.0614248954813055,\n",
       " 1.0618485665723054,\n",
       " 1.062272535091071,\n",
       " 1.0626968001868442,\n",
       " 1.0631213610130164,\n",
       " 1.0635462167271186,\n",
       " 1.0639713664908101,\n",
       " 1.0643968094698715,\n",
       " 1.0648225448341961,\n",
       " 1.065248571757776,\n",
       " 1.0656748894186967,\n",
       " 1.066101496999127,\n",
       " 1.0665283936853065,\n",
       " 1.0669555786675393,\n",
       " 1.0673830511401832,\n",
       " 1.0678108103016397,\n",
       " 1.068238855354344,\n",
       " 1.0686671855047556,\n",
       " 1.06909579996335,\n",
       " 1.0695246979446045,\n",
       " 1.0699538786669935,\n",
       " 1.0703833413529753,\n",
       " 1.070813085228984,\n",
       " 1.071243109525418,\n",
       " 1.0716734134766297,\n",
       " 1.0721039963209178,\n",
       " 1.0725348573005151,\n",
       " 1.0729659956615805,\n",
       " 1.073397410654185,\n",
       " 1.0738291015323056,\n",
       " 1.074261067553814,\n",
       " 1.0746933079804644,\n",
       " 1.075125822077886,\n",
       " 1.0755586091155713,\n",
       " 1.0759916683668658,\n",
       " 1.0764249991089578,\n",
       " 1.0768586006228682,\n",
       " 1.0772924721934407,\n",
       " 1.0777266131093304,\n",
       " 1.0781610226629936,\n",
       " 1.0785957001506785,\n",
       " 1.0790306448724118,\n",
       " 1.0794658561319925,\n",
       " 1.0799013332369773,\n",
       " 1.0803370754986734,\n",
       " 1.0807730822321255,\n",
       " 1.0812093527561064,\n",
       " 1.0816458863931069,\n",
       " 1.0820826824693228,\n",
       " 1.082519740314648,\n",
       " 1.0829570592626603,\n",
       " 1.083394638650613,\n",
       " 1.0838324778194233,\n",
       " 1.0842705761136615,\n",
       " 1.0847089328815418,\n",
       " 1.0851475474749086,\n",
       " 1.0855864192492295,\n",
       " 1.086025547563581,\n",
       " 1.0864649317806396,\n",
       " 1.086904571266671,\n",
       " 1.0873444653915199,\n",
       " 1.0877846135285962,\n",
       " 1.0882250150548682,\n",
       " 1.0886656693508496,\n",
       " 1.0891065758005882,\n",
       " 1.089547733791656,\n",
       " 1.0899891427151376,\n",
       " 1.0904308019656215,\n",
       " 1.0908727109411855,\n",
       " 1.0913148690433891,\n",
       " 1.0917572756772609,\n",
       " 1.092199930251288,\n",
       " 1.0926428321774055,\n",
       " 1.0930859808709843,\n",
       " 1.0935293757508229,\n",
       " 1.0939730162391323,\n",
       " 1.0944169017615295,\n",
       " 1.0948610317470227,\n",
       " 1.0953054056280034,\n",
       " 1.0957500228402328,\n",
       " 1.0961948828228338,\n",
       " 1.0966399850182769,\n",
       " 1.0970853288723703,\n",
       " 1.09753091383425,\n",
       " 1.0979767393563686,\n",
       " 1.0984228048944822,\n",
       " 1.0988691099076424,\n",
       " 1.0993156538581825,\n",
       " 1.0997624362117089,\n",
       " 1.100209456437088,\n",
       " 1.1006567140064367,\n",
       " 1.1011042083951108,\n",
       " 1.1015519390816944,\n",
       " 1.1019999055479874,\n",
       " 1.102448107278997,\n",
       " 1.1028965437629241,\n",
       " 1.1033452144911544,\n",
       " 1.103794118958245,\n",
       " 1.1042432566619174,\n",
       " 1.1046926271030415,\n",
       " 1.1051422297856277,\n",
       " 1.105592064216816,\n",
       " 1.1060421299068632,\n",
       " 1.1064924263691334,\n",
       " 1.1069429531200865,\n",
       " 1.1073937096792672,\n",
       " 1.1078446955692935,\n",
       " 1.1082959103158472,\n",
       " 1.108747353447661,\n",
       " 1.10919902449651,\n",
       " 1.1096509229971965,\n",
       " 1.1101030484875445,\n",
       " 1.1105554005083844,\n",
       " 1.1110079786035438,\n",
       " 1.1114607823198372,\n",
       " 1.111913811207053,\n",
       " 1.112367064817945,\n",
       " 1.1128205427082185,\n",
       " 1.1132742444365238,\n",
       " 1.1137281695644408,\n",
       " 1.1141823176564691,\n",
       " 1.1146366882800198,\n",
       " 1.1150912810054028,\n",
       " 1.1155460954058136,\n",
       " 1.1160011310573277,\n",
       " 1.116456387538884,\n",
       " 1.1169118644322786,\n",
       " 1.117367561322151,\n",
       " 1.117823477795975,\n",
       " 1.1182796134440467,\n",
       " 1.1187359678594742,\n",
       " 1.1191925406381669,\n",
       " 1.1196493313788247,\n",
       " 1.1201063396829274,\n",
       " 1.120563565154723,\n",
       " 1.121021007401218,\n",
       " 1.121478666032166,\n",
       " 1.1219365406600588,\n",
       " 1.1223946309001112,\n",
       " 1.122852936370256,\n",
       " 1.1233114566911289,\n",
       " 1.12377019148606,\n",
       " 1.1242291403810634,\n",
       " 1.124688303004825,\n",
       " 1.125147678988692,\n",
       " 1.1256072679666647]"
      ]
     },
     "execution_count": 55,
     "metadata": {},
     "output_type": "execute_result"
    }
   ],
   "source": [
    "correction"
   ]
  },
  {
   "cell_type": "code",
   "execution_count": null,
   "id": "67a4b1dd",
   "metadata": {},
   "outputs": [],
   "source": []
  }
 ],
 "metadata": {
  "kernelspec": {
   "display_name": "Python 3",
   "language": "python",
   "name": "python3"
  },
  "language_info": {
   "codemirror_mode": {
    "name": "ipython",
    "version": 3
   },
   "file_extension": ".py",
   "mimetype": "text/x-python",
   "name": "python",
   "nbconvert_exporter": "python",
   "pygments_lexer": "ipython3",
   "version": "3.8.8"
  },
  "varInspector": {
   "cols": {
    "lenName": 16,
    "lenType": 16,
    "lenVar": 40
   },
   "kernels_config": {
    "python": {
     "delete_cmd_postfix": "",
     "delete_cmd_prefix": "del ",
     "library": "var_list.py",
     "varRefreshCmd": "print(var_dic_list())"
    },
    "r": {
     "delete_cmd_postfix": ") ",
     "delete_cmd_prefix": "rm(",
     "library": "var_list.r",
     "varRefreshCmd": "cat(var_dic_list()) "
    }
   },
   "types_to_exclude": [
    "module",
    "function",
    "builtin_function_or_method",
    "instance",
    "_Feature"
   ],
   "window_display": false
  }
 },
 "nbformat": 4,
 "nbformat_minor": 5
}
